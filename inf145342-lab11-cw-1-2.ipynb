{
 "cells": [
  {
   "cell_type": "markdown",
   "metadata": {},
   "source": [
    "## Statystyka i Analiza danych\n",
    "# Laboratorium 10 - Test $\\chi^2$"
   ]
  },
  {
   "cell_type": "markdown",
   "metadata": {},
   "source": [
    "### Ćwiczenie 1: \n",
    "\n",
    "Typowy rozkład wiekowy ludności w pewnym regionie jest zgodny z podanym w tabeli Typowe. Natomiast w tabeli Zaobserwowane przedstawiono rozkład wiekowy ludności z miasteczka znajdującego się w rozpatrywanym regionie. Sprawdź czy rozkład ten można uznać za zgodny z rozkładem typowym dla tego regionu."
   ]
  },
  {
   "cell_type": "code",
   "execution_count": 1,
   "metadata": {},
   "outputs": [],
   "source": [
    "kategorie <- c(\"<15\", \"15-24\", \"25-34\", \"35-44\", \"45-54\", \"55-64\", \"65-74\", \">74\")\n",
    "Typowe <- c(475,304,182,190,208,170,111,72)\n",
    "Zaobserwowane <- c(3016,2438,2037,2031,1253,977,585,163)"
   ]
  },
  {
   "cell_type": "markdown",
   "metadata": {},
   "source": [
    "Sformułuj hipotezy zerową i alternatywną, zinterpretuj hipotezy. Przyjęty poziom istotności $\\alpha = 0.01$."
   ]
  },
  {
   "cell_type": "code",
   "execution_count": 2,
   "metadata": {},
   "outputs": [],
   "source": [
    "# H0: rozkłady są takie same\n",
    "# H1: rozkłady są różne\n",
    "alpha <- 0.01"
   ]
  },
  {
   "cell_type": "markdown",
   "metadata": {},
   "source": [
    "Oblicz liczbę stopni swobody:"
   ]
  },
  {
   "cell_type": "code",
   "execution_count": 3,
   "metadata": {},
   "outputs": [
    {
     "data": {
      "text/html": [
       "7"
      ],
      "text/latex": [
       "7"
      ],
      "text/markdown": [
       "7"
      ],
      "text/plain": [
       "[1] 7"
      ]
     },
     "metadata": {},
     "output_type": "display_data"
    }
   ],
   "source": [
    "# k - 1 stopni swobody\n",
    "df <- length(kategorie) - 1\n",
    "df"
   ]
  },
  {
   "cell_type": "markdown",
   "metadata": {},
   "source": [
    "Oblicz tabelę wartości oczekiwanych:"
   ]
  },
  {
   "cell_type": "code",
   "execution_count": 5,
   "metadata": {},
   "outputs": [
    {
     "data": {
      "text/html": [
       "<ol class=list-inline>\n",
       "\t<li>3468.16588785047</li>\n",
       "\t<li>2219.6261682243</li>\n",
       "\t<li>1328.85514018692</li>\n",
       "\t<li>1387.26635514019</li>\n",
       "\t<li>1518.69158878505</li>\n",
       "\t<li>1241.23831775701</li>\n",
       "\t<li>810.455607476635</li>\n",
       "\t<li>525.700934579439</li>\n",
       "</ol>\n"
      ],
      "text/latex": [
       "\\begin{enumerate*}\n",
       "\\item 3468.16588785047\n",
       "\\item 2219.6261682243\n",
       "\\item 1328.85514018692\n",
       "\\item 1387.26635514019\n",
       "\\item 1518.69158878505\n",
       "\\item 1241.23831775701\n",
       "\\item 810.455607476635\n",
       "\\item 525.700934579439\n",
       "\\end{enumerate*}\n"
      ],
      "text/markdown": [
       "1. 3468.16588785047\n",
       "2. 2219.6261682243\n",
       "3. 1328.85514018692\n",
       "4. 1387.26635514019\n",
       "5. 1518.69158878505\n",
       "6. 1241.23831775701\n",
       "7. 810.455607476635\n",
       "8. 525.700934579439\n",
       "\n",
       "\n"
      ],
      "text/plain": [
       "[1] 3468.1659 2219.6262 1328.8551 1387.2664 1518.6916 1241.2383  810.4556\n",
       "[8]  525.7009"
      ]
     },
     "metadata": {},
     "output_type": "display_data"
    }
   ],
   "source": [
    "Oczekiwane <- Typowe/sum(Typowe) * sum(Zaobserwowane)\n",
    "Oczekiwane\n",
    "# wszystkie wartości > 5"
   ]
  },
  {
   "cell_type": "markdown",
   "metadata": {},
   "source": [
    "Oblicz wartość statystyki testowej:"
   ]
  },
  {
   "cell_type": "code",
   "execution_count": 7,
   "metadata": {},
   "outputs": [
    {
     "data": {
      "text/html": [
       "1172.21025814962"
      ],
      "text/latex": [
       "1172.21025814962"
      ],
      "text/markdown": [
       "1172.21025814962"
      ],
      "text/plain": [
       "[1] 1172.21"
      ]
     },
     "metadata": {},
     "output_type": "display_data"
    }
   ],
   "source": [
    "chi2 <- sum((Zaobserwowane - Oczekiwane)^2/Oczekiwane)\n",
    "chi2"
   ]
  },
  {
   "cell_type": "markdown",
   "metadata": {},
   "source": [
    "Wyznacz wartość krytyczną i podejmij decyzję."
   ]
  },
  {
   "cell_type": "code",
   "execution_count": 9,
   "metadata": {},
   "outputs": [
    {
     "data": {
      "text/html": [
       "18.4753069065824"
      ],
      "text/latex": [
       "18.4753069065824"
      ],
      "text/markdown": [
       "18.4753069065824"
      ],
      "text/plain": [
       "[1] 18.47531"
      ]
     },
     "metadata": {},
     "output_type": "display_data"
    }
   ],
   "source": [
    "qchisq(1 - alpha,df)\n",
    "# odrzucamy H0 "
   ]
  },
  {
   "cell_type": "markdown",
   "metadata": {},
   "source": [
    "Wykonaj test korzystając z funkcji `chisq.test()`, podając jako pierwszy argument liczebności zaobserwowane, a jako parametr *p* -- odpowiadające im prawdopodobieństwa założone w hipotezie zerowej"
   ]
  },
  {
   "cell_type": "code",
   "execution_count": 10,
   "metadata": {},
   "outputs": [
    {
     "data": {
      "text/plain": [
       "\n",
       "\tChi-squared test for given probabilities\n",
       "\n",
       "data:  Zaobserwowane\n",
       "X-squared = 1172.2, df = 7, p-value < 2.2e-16\n"
      ]
     },
     "metadata": {},
     "output_type": "display_data"
    }
   ],
   "source": [
    "chisq.test(Zaobserwowane, p=Oczekiwane/sum(Oczekiwane)) \n",
    "# wartości obliczone krok po kroku pokrywają się z wartościami obliczonymi przez test"
   ]
  },
  {
   "cell_type": "markdown",
   "metadata": {},
   "source": [
    "Czyścimy workspace:"
   ]
  },
  {
   "cell_type": "code",
   "execution_count": 11,
   "metadata": {},
   "outputs": [],
   "source": [
    "rm(list = ls())"
   ]
  },
  {
   "cell_type": "markdown",
   "metadata": {},
   "source": [
    "### Ćwiczenie 2\n",
    "\n",
    "Dane do tego zadania opisują wszystkie osoby (2201) na pokładzie dużego statku wycieczkowego z punktu widzenia 3 prostych atrybutów jakościowych i pewnego rodzaju, nieznanego, jakościowego atrybutu decyzyjnego (zadowolenie z wycieczki? sympatia do kapitana? Co to są za dane?). Sporządź tabelę wielodzielczą i wykres. Wykonaj test niezależności chi-kwadrat dla atrybutów: płeć i wiek, klasa i decyzja."
   ]
  },
  {
   "cell_type": "code",
   "execution_count": 34,
   "metadata": {},
   "outputs": [],
   "source": [
    "Dane <- read.csv(url(\"http://www.cs.put.poznan.pl/swilk/siad/11-cw2.csv\"), sep=\";\")"
   ]
  },
  {
   "cell_type": "markdown",
   "metadata": {},
   "source": [
    "Przyjmij poziom istotności 0.001:"
   ]
  },
  {
   "cell_type": "code",
   "execution_count": 13,
   "metadata": {
    "scrolled": true
   },
   "outputs": [],
   "source": [
    "alpha <- 0.001"
   ]
  },
  {
   "cell_type": "markdown",
   "metadata": {},
   "source": [
    "Utwórz tablicę wielodzielczą dla atrybutów wiek i płeć korzystając z funkcji `table()`"
   ]
  },
  {
   "cell_type": "code",
   "execution_count": 17,
   "metadata": {},
   "outputs": [
    {
     "data": {
      "text/plain": [
       "       \n",
       "        Female Male\n",
       "  Adult    402 1666\n",
       "  Child     45   64"
      ]
     },
     "metadata": {},
     "output_type": "display_data"
    }
   ],
   "source": [
    "WiekPlec <- table(Dane$Age, Dane$Sex)\n",
    "WiekPlec"
   ]
  },
  {
   "cell_type": "markdown",
   "metadata": {},
   "source": [
    "Stwórz wykres tablicy korzystając z funkcji `plot()`"
   ]
  },
  {
   "cell_type": "code",
   "execution_count": 20,
   "metadata": {},
   "outputs": [
    {
     "data": {
      "image/png": "[encoded data removed]",
      "text/plain": [
       "Plot with title \"Dane o pasażerach statku\""
      ]
     },
     "metadata": {},
     "output_type": "display_data"
    }
   ],
   "source": [
    "plot(WiekPlec, main=\"Dane o pasażerach statku\", xlab=\"wiek\", ylab=\"płeć\")"
   ]
  },
  {
   "cell_type": "markdown",
   "metadata": {},
   "source": [
    "Oblicz sumę obserwacji oraz liczebności brzegowe korzystając z funkcji `margin.table()` podając jako pierwszy argument tablicę wielodzielczą, jako drugi 1 dla wierszy a 2 dla kolumn"
   ]
  },
  {
   "cell_type": "code",
   "execution_count": 26,
   "metadata": {},
   "outputs": [
    {
     "data": {
      "text/plain": [
       "\n",
       "Adult Child \n",
       " 2068   109 "
      ]
     },
     "metadata": {},
     "output_type": "display_data"
    },
    {
     "data": {
      "text/plain": [
       "\n",
       "Female   Male \n",
       "   447   1730 "
      ]
     },
     "metadata": {},
     "output_type": "display_data"
    },
    {
     "data": {
      "text/html": [
       "2177"
      ],
      "text/latex": [
       "2177"
      ],
      "text/markdown": [
       "2177"
      ],
      "text/plain": [
       "[1] 2177"
      ]
     },
     "metadata": {},
     "output_type": "display_data"
    }
   ],
   "source": [
    "#?margin.table\n",
    "margin_rows <- margin.table(WiekPlec, 1)\n",
    "margin_rows # podział według wieku\n",
    "margin_cols <- margin.table(WiekPlec, 2)\n",
    "margin_cols # podział według płci\n",
    "total <- sum(margin_cols)\n",
    "total "
   ]
  },
  {
   "cell_type": "markdown",
   "metadata": {},
   "source": [
    "Oblicz liczbę stopni swobody:"
   ]
  },
  {
   "cell_type": "code",
   "execution_count": 27,
   "metadata": {},
   "outputs": [
    {
     "data": {
      "text/html": [
       "1"
      ],
      "text/latex": [
       "1"
      ],
      "text/markdown": [
       "1"
      ],
      "text/plain": [
       "[1] 1"
      ]
     },
     "metadata": {},
     "output_type": "display_data"
    }
   ],
   "source": [
    "#(cols - 1)*(rows - 1)\n",
    "df <- (length(margin_cols) - 1)*(length(margin_rows) -1)\n",
    "df"
   ]
  },
  {
   "cell_type": "markdown",
   "metadata": {},
   "source": [
    "Oblicz tablicę wartości oczekiwanych. Utwórz macierz korzystając z funkcji `outer(margin_rows, margin_cols)`, wykonującej iloczyn zewnętrzny/Kroneckera (iloczyny wszystkich kombinacji współrzędnych wektorów)"
   ]
  },
  {
   "cell_type": "code",
   "execution_count": 29,
   "metadata": {},
   "outputs": [
    {
     "data": {
      "text/html": [
       "<table>\n",
       "<thead><tr><th></th><th scope=col>Female</th><th scope=col>Male</th></tr></thead>\n",
       "<tbody>\n",
       "\t<tr><th scope=row>Adult</th><td>424.6192 </td><td>1643.3808</td></tr>\n",
       "\t<tr><th scope=row>Child</th><td> 22.3808 </td><td>  86.6192</td></tr>\n",
       "</tbody>\n",
       "</table>\n"
      ],
      "text/latex": [
       "\\begin{tabular}{r|ll}\n",
       "  & Female & Male\\\\\n",
       "\\hline\n",
       "\tAdult & 424.6192  & 1643.3808\\\\\n",
       "\tChild &  22.3808  &   86.6192\\\\\n",
       "\\end{tabular}\n"
      ],
      "text/markdown": [
       "\n",
       "| <!--/--> | Female | Male |\n",
       "|---|---|---|\n",
       "| Adult | 424.6192  | 1643.3808 |\n",
       "| Child |  22.3808  |   86.6192 |\n",
       "\n"
      ],
      "text/plain": [
       "       \n",
       "        Female   Male     \n",
       "  Adult 424.6192 1643.3808\n",
       "  Child  22.3808   86.6192"
      ]
     },
     "metadata": {},
     "output_type": "display_data"
    }
   ],
   "source": [
    "E <- outer(margin_rows, margin_cols)/total\n",
    "E"
   ]
  },
  {
   "cell_type": "markdown",
   "metadata": {},
   "source": [
    "Oblicz wartość statystyki testowej:"
   ]
  },
  {
   "cell_type": "code",
   "execution_count": 30,
   "metadata": {},
   "outputs": [
    {
     "data": {
      "text/html": [
       "30.2830168382122"
      ],
      "text/latex": [
       "30.2830168382122"
      ],
      "text/markdown": [
       "30.2830168382122"
      ],
      "text/plain": [
       "[1] 30.28302"
      ]
     },
     "metadata": {},
     "output_type": "display_data"
    }
   ],
   "source": [
    "chi2  <- sum((WiekPlec - E)^2/E)\n",
    "chi2"
   ]
  },
  {
   "cell_type": "markdown",
   "metadata": {},
   "source": [
    "Podaj wartość krytyczną i podejmij decyzję odnośnie hipotezy zerowej:"
   ]
  },
  {
   "cell_type": "code",
   "execution_count": 31,
   "metadata": {},
   "outputs": [
    {
     "data": {
      "text/html": [
       "10.8275661706627"
      ],
      "text/latex": [
       "10.8275661706627"
      ],
      "text/markdown": [
       "10.8275661706627"
      ],
      "text/plain": [
       "[1] 10.82757"
      ]
     },
     "metadata": {},
     "output_type": "display_data"
    }
   ],
   "source": [
    "qchisq(1 - alpha, df)\n",
    "#odrzucamy H0"
   ]
  },
  {
   "cell_type": "markdown",
   "metadata": {},
   "source": [
    "Wykonaj test korzystając z funkcji `chisq.test()` podając jako argument tablicę wielodzielczą"
   ]
  },
  {
   "cell_type": "code",
   "execution_count": 32,
   "metadata": {},
   "outputs": [
    {
     "data": {
      "text/plain": [
       "\n",
       "\tPearson's Chi-squared test\n",
       "\n",
       "data:  WiekPlec\n",
       "X-squared = 30.283, df = 1, p-value = 3.734e-08\n"
      ]
     },
     "metadata": {},
     "output_type": "display_data"
    }
   ],
   "source": [
    "chisq.test(WiekPlec, correct=FALSE) #bez poprawki Yatesa"
   ]
  },
  {
   "cell_type": "markdown",
   "metadata": {},
   "source": [
    "Wykonaj wszystkie powyższe czynności dla atrybutów klasa i decyzja. Tablica wielodzielcza:"
   ]
  },
  {
   "cell_type": "code",
   "execution_count": 36,
   "metadata": {},
   "outputs": [
    {
     "data": {
      "text/plain": [
       "      \n",
       "        NO YES\n",
       "  1    122 203\n",
       "  2    167 118\n",
       "  3    528 178\n",
       "  Crew 669 192"
      ]
     },
     "metadata": {},
     "output_type": "display_data"
    }
   ],
   "source": [
    "KlasaDecyzja <- table(Dane$Class, Dane$Decision)\n",
    "KlasaDecyzja"
   ]
  },
  {
   "cell_type": "markdown",
   "metadata": {},
   "source": [
    "Wykres tablicy:"
   ]
  },
  {
   "cell_type": "code",
   "execution_count": 38,
   "metadata": {
    "scrolled": true
   },
   "outputs": [
    {
     "data": {
      "image/png": "[encoded data removed]",
      "text/plain": [
       "Plot with title \"Dane o pasażerach statku\""
      ]
     },
     "metadata": {},
     "output_type": "display_data"
    }
   ],
   "source": [
    "plot(KlasaDecyzja, main=\"Dane o pasażerach statku\", xlab=\"klasa\", ylab=\"decyzja\")"
   ]
  },
  {
   "cell_type": "markdown",
   "metadata": {},
   "source": [
    "Suma obserwacji oraz liczebności brzegowe: "
   ]
  },
  {
   "cell_type": "code",
   "execution_count": 40,
   "metadata": {
    "scrolled": true
   },
   "outputs": [
    {
     "data": {
      "text/plain": [
       "\n",
       "   1    2    3 Crew \n",
       " 325  285  706  861 "
      ]
     },
     "metadata": {},
     "output_type": "display_data"
    },
    {
     "data": {
      "text/plain": [
       "\n",
       "  NO  YES \n",
       "1486  691 "
      ]
     },
     "metadata": {},
     "output_type": "display_data"
    },
    {
     "data": {
      "text/html": [
       "2177"
      ],
      "text/latex": [
       "2177"
      ],
      "text/markdown": [
       "2177"
      ],
      "text/plain": [
       "[1] 2177"
      ]
     },
     "metadata": {},
     "output_type": "display_data"
    }
   ],
   "source": [
    "margin_rows <- margin.table(KlasaDecyzja, 1)\n",
    "margin_rows #podział według klasy\n",
    "margin_cols <- margin.table(KlasaDecyzja, 2)\n",
    "margin_cols #podział według decyzji\n",
    "total <- sum(margin_cols)\n",
    "total"
   ]
  },
  {
   "cell_type": "markdown",
   "metadata": {},
   "source": [
    "Liczba stopni swobody:"
   ]
  },
  {
   "cell_type": "code",
   "execution_count": 42,
   "metadata": {},
   "outputs": [
    {
     "data": {
      "text/html": [
       "3"
      ],
      "text/latex": [
       "3"
      ],
      "text/markdown": [
       "3"
      ],
      "text/plain": [
       "[1] 3"
      ]
     },
     "metadata": {},
     "output_type": "display_data"
    }
   ],
   "source": [
    "#(cols - 1)(rows -1)\n",
    "df <- (length(margin_cols)-1)*(length(margin_rows)-1)\n",
    "df"
   ]
  },
  {
   "cell_type": "markdown",
   "metadata": {},
   "source": [
    "Tablica wartości oczekiwanych:"
   ]
  },
  {
   "cell_type": "code",
   "execution_count": 43,
   "metadata": {},
   "outputs": [
    {
     "data": {
      "text/html": [
       "<table>\n",
       "<thead><tr><th></th><th scope=col>NO</th><th scope=col>YES</th></tr></thead>\n",
       "<tbody>\n",
       "\t<tr><th scope=row>1</th><td>221.8420 </td><td>103.15802</td></tr>\n",
       "\t<tr><th scope=row>2</th><td>194.5384 </td><td> 90.46164</td></tr>\n",
       "\t<tr><th scope=row>3</th><td>481.9090 </td><td>224.09095</td></tr>\n",
       "\t<tr><th scope=row>Crew</th><td>587.7106 </td><td>273.28939</td></tr>\n",
       "</tbody>\n",
       "</table>\n"
      ],
      "text/latex": [
       "\\begin{tabular}{r|ll}\n",
       "  & NO & YES\\\\\n",
       "\\hline\n",
       "\t1 & 221.8420  & 103.15802\\\\\n",
       "\t2 & 194.5384  &  90.46164\\\\\n",
       "\t3 & 481.9090  & 224.09095\\\\\n",
       "\tCrew & 587.7106  & 273.28939\\\\\n",
       "\\end{tabular}\n"
      ],
      "text/markdown": [
       "\n",
       "| <!--/--> | NO | YES |\n",
       "|---|---|---|\n",
       "| 1 | 221.8420  | 103.15802 |\n",
       "| 2 | 194.5384  |  90.46164 |\n",
       "| 3 | 481.9090  | 224.09095 |\n",
       "| Crew | 587.7106  | 273.28939 |\n",
       "\n"
      ],
      "text/plain": [
       "      \n",
       "       NO       YES      \n",
       "  1    221.8420 103.15802\n",
       "  2    194.5384  90.46164\n",
       "  3    481.9090 224.09095\n",
       "  Crew 587.7106 273.28939"
      ]
     },
     "metadata": {},
     "output_type": "display_data"
    }
   ],
   "source": [
    "E <- outer(margin_rows,margin_cols)/total\n",
    "E"
   ]
  },
  {
   "cell_type": "markdown",
   "metadata": {},
   "source": [
    "Wartość statystyki testowej:"
   ]
  },
  {
   "cell_type": "code",
   "execution_count": 44,
   "metadata": {},
   "outputs": [
    {
     "data": {
      "text/html": [
       "203.159983593609"
      ],
      "text/latex": [
       "203.159983593609"
      ],
      "text/markdown": [
       "203.159983593609"
      ],
      "text/plain": [
       "[1] 203.16"
      ]
     },
     "metadata": {},
     "output_type": "display_data"
    }
   ],
   "source": [
    "chi2  <- sum((KlasaDecyzja - E)^2/E)\n",
    "chi2"
   ]
  },
  {
   "cell_type": "markdown",
   "metadata": {},
   "source": [
    "Wartość krytyczna i decyzja:"
   ]
  },
  {
   "cell_type": "code",
   "execution_count": 45,
   "metadata": {},
   "outputs": [
    {
     "data": {
      "text/html": [
       "16.2662361962381"
      ],
      "text/latex": [
       "16.2662361962381"
      ],
      "text/markdown": [
       "16.2662361962381"
      ],
      "text/plain": [
       "[1] 16.26624"
      ]
     },
     "metadata": {},
     "output_type": "display_data"
    }
   ],
   "source": [
    "qchisq(1 - alpha, df)\n",
    "#Odrzucamy H0"
   ]
  },
  {
   "cell_type": "markdown",
   "metadata": {},
   "source": [
    "Test używając funkcji `chisq.test()`:"
   ]
  },
  {
   "cell_type": "code",
   "execution_count": 46,
   "metadata": {},
   "outputs": [
    {
     "data": {
      "text/plain": [
       "\n",
       "\tPearson's Chi-squared test\n",
       "\n",
       "data:  KlasaDecyzja\n",
       "X-squared = 203.16, df = 3, p-value < 2.2e-16\n"
      ]
     },
     "metadata": {},
     "output_type": "display_data"
    }
   ],
   "source": [
    "chisq.test(KlasaDecyzja, correct=FALSE) #bez poprawki Yatesa"
   ]
  },
  {
   "cell_type": "markdown",
   "metadata": {},
   "source": [
    "Czyszczenie przestrzeni roboczej:"
   ]
  },
  {
   "cell_type": "code",
   "execution_count": 47,
   "metadata": {},
   "outputs": [],
   "source": [
    "rm(list = ls())"
   ]
  }
 ],
 "metadata": {
  "kernelspec": {
   "display_name": "R",
   "language": "R",
   "name": "ir"
  },
  "language_info": {
   "codemirror_mode": "r",
   "file_extension": ".r",
   "mimetype": "text/x-r-source",
   "name": "R",
   "pygments_lexer": "r",
   "version": "3.6.1"
  }
 },
 "nbformat": 4,
 "nbformat_minor": 2
}
