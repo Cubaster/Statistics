{
 "cells": [
  {
   "cell_type": "markdown",
   "metadata": {},
   "source": [
    "## Statystyka i Analiza danych\n",
    "# Laboratorium 10 - Korelacja i regresja (część 2)"
   ]
  },
  {
   "cell_type": "markdown",
   "metadata": {},
   "source": [
    "### Ćwiczenie 1: Regresja liniowa w R\n",
    "\n",
    "Celem ćwiczenia jest zapoznanie się z funkcją `lm()` wykonującą regresję liniową w R.\n",
    "\n",
    "Zacznijmy od wczytania poniższej funkcji generującej prostą ramkę danych:"
   ]
  },
  {
   "cell_type": "code",
   "execution_count": 1,
   "metadata": {},
   "outputs": [],
   "source": [
    "generujDane <- function(n, a, b, sigma) {\n",
    "  x <- runif(n)\n",
    "  y <- a * x + b + sigma * rnorm(n)\n",
    "  plot(y ~ x, t=\"p\", xlab=\"X\", ylab=\"Y\", main=\"Regression Data\")\n",
    "  abline(b, a, lty=\"dashed\")\n",
    "  data.frame(X=x, Y=y)\n",
    "}"
   ]
  },
  {
   "cell_type": "markdown",
   "metadata": {},
   "source": [
    "Użyj powyższej funkcji aby wygenerować zbiór danych `Regresja` składający się z 50 obserwacji z prawdziwymi współczynnikami *a=3*, *b=-2* i szumem *sigma=1*."
   ]
  },
  {
   "cell_type": "code",
   "execution_count": 4,
   "metadata": {},
   "outputs": [
    {
     "data": {
      "image/png": "[encoded data removed]",
      "text/plain": [
       "Plot with title \"Regression Data\""
      ]
     },
     "metadata": {},
     "output_type": "display_data"
    }
   ],
   "source": [
    "Regresja <- generujDane(50,3,-2,1)"
   ]
  },
  {
   "cell_type": "markdown",
   "metadata": {},
   "source": [
    "Wyznacz współczynniki regresji liniowej, wyświetl zmienną `model` i porównaj współczynniki z prawdziwymi wartościami *a*, *b*."
   ]
  },
  {
   "cell_type": "code",
   "execution_count": 5,
   "metadata": {},
   "outputs": [
    {
     "data": {
      "text/plain": [
       "\n",
       "Call:\n",
       "lm(formula = Y ~ X, data = Regresja)\n",
       "\n",
       "Coefficients:\n",
       "(Intercept)            X  \n",
       "     -2.046        2.800  \n"
      ]
     },
     "metadata": {},
     "output_type": "display_data"
    }
   ],
   "source": [
    "model <- lm(Y ~ X, Regresja)\n",
    "model"
   ]
  },
  {
   "cell_type": "markdown",
   "metadata": {},
   "source": [
    "Przypisz współczynniki do zmiennej `coeffs` i wyznacz wektor $\\hat{Y}$ (ozn. `Yp`) wartości zmiennej objaśnianej wyznaczone z modelu liniowego."
   ]
  },
  {
   "cell_type": "code",
   "execution_count": 8,
   "metadata": {},
   "outputs": [],
   "source": [
    "coeffs <- model$coefficients\n",
    "\n",
    "Yp <- coeffs[1] + coeffs[2]*Regresja$X"
   ]
  },
  {
   "cell_type": "markdown",
   "metadata": {},
   "source": [
    "Wyznacz i wyświetl podsumowanie modelu. Zinterpretuj wypisywane wartości"
   ]
  },
  {
   "cell_type": "code",
   "execution_count": 9,
   "metadata": {},
   "outputs": [
    {
     "data": {
      "text/plain": [
       "\n",
       "Call:\n",
       "lm(formula = Y ~ X, data = Regresja)\n",
       "\n",
       "Residuals:\n",
       "    Min      1Q  Median      3Q     Max \n",
       "-1.2942 -0.5455 -0.1719  0.4616  2.3206 \n",
       "\n",
       "Coefficients:\n",
       "            Estimate Std. Error t value Pr(>|t|)    \n",
       "(Intercept)  -2.0462     0.2276  -8.992 7.29e-12 ***\n",
       "X             2.7996     0.3831   7.307 2.49e-09 ***\n",
       "---\n",
       "Signif. codes:  0 '***' 0.001 '**' 0.01 '*' 0.05 '.' 0.1 ' ' 1\n",
       "\n",
       "Residual standard error: 0.8375 on 48 degrees of freedom\n",
       "Multiple R-squared:  0.5266,\tAdjusted R-squared:  0.5168 \n",
       "F-statistic:  53.4 on 1 and 48 DF,  p-value: 2.488e-09\n"
      ]
     },
     "metadata": {},
     "output_type": "display_data"
    }
   ],
   "source": [
    "modelSummary  <-  summary(model)\n",
    "modelSummary"
   ]
  },
  {
   "cell_type": "markdown",
   "metadata": {},
   "source": [
    "Do poszczególnych elementów podsumowania można uzyskać dostęp poprzez funkcje:\n",
    "\n",
    "- współczynniki modelu z błędami standardowymi, wartościami statystyki *t* i jej *p*-wartościami:"
   ]
  },
  {
   "cell_type": "code",
   "execution_count": 10,
   "metadata": {},
   "outputs": [
    {
     "data": {
      "text/html": [
       "<table>\n",
       "<thead><tr><th></th><th scope=col>Estimate</th><th scope=col>Std. Error</th><th scope=col>t value</th><th scope=col>Pr(&gt;|t|)</th></tr></thead>\n",
       "<tbody>\n",
       "\t<tr><th scope=row>(Intercept)</th><td>-2.046235   </td><td>0.2275661   </td><td>-8.991825   </td><td>7.290651e-12</td></tr>\n",
       "\t<tr><th scope=row>X</th><td> 2.799563   </td><td>0.3831115   </td><td> 7.307436   </td><td>2.487890e-09</td></tr>\n",
       "</tbody>\n",
       "</table>\n"
      ],
      "text/latex": [
       "\\begin{tabular}{r|llll}\n",
       "  & Estimate & Std. Error & t value & Pr(>\\textbar{}t\\textbar{})\\\\\n",
       "\\hline\n",
       "\t(Intercept) & -2.046235    & 0.2275661    & -8.991825    & 7.290651e-12\\\\\n",
       "\tX &  2.799563    & 0.3831115    &  7.307436    & 2.487890e-09\\\\\n",
       "\\end{tabular}\n"
      ],
      "text/markdown": [
       "\n",
       "| <!--/--> | Estimate | Std. Error | t value | Pr(>|t|) |\n",
       "|---|---|---|---|---|\n",
       "| (Intercept) | -2.046235    | 0.2275661    | -8.991825    | 7.290651e-12 |\n",
       "| X |  2.799563    | 0.3831115    |  7.307436    | 2.487890e-09 |\n",
       "\n"
      ],
      "text/plain": [
       "            Estimate  Std. Error t value   Pr(>|t|)    \n",
       "(Intercept) -2.046235 0.2275661  -8.991825 7.290651e-12\n",
       "X            2.799563 0.3831115   7.307436 2.487890e-09"
      ]
     },
     "metadata": {},
     "output_type": "display_data"
    }
   ],
   "source": [
    "modelSummary$coefficients"
   ]
  },
  {
   "cell_type": "markdown",
   "metadata": {},
   "source": [
    "- Współczynnik determinacji $R^2$:"
   ]
  },
  {
   "cell_type": "code",
   "execution_count": 11,
   "metadata": {},
   "outputs": [
    {
     "data": {
      "text/html": [
       "0.5266208046987"
      ],
      "text/latex": [
       "0.5266208046987"
      ],
      "text/markdown": [
       "0.5266208046987"
      ],
      "text/plain": [
       "[1] 0.5266208"
      ]
     },
     "metadata": {},
     "output_type": "display_data"
    }
   ],
   "source": [
    "modelSummary$r.squared"
   ]
  },
  {
   "cell_type": "markdown",
   "metadata": {},
   "source": [
    "- Statystyka $F$:"
   ]
  },
  {
   "cell_type": "code",
   "execution_count": 12,
   "metadata": {
    "scrolled": true
   },
   "outputs": [
    {
     "data": {
      "text/html": [
       "<dl class=dl-horizontal>\n",
       "\t<dt>value</dt>\n",
       "\t\t<dd>53.3986260411139</dd>\n",
       "\t<dt>numdf</dt>\n",
       "\t\t<dd>1</dd>\n",
       "\t<dt>dendf</dt>\n",
       "\t\t<dd>48</dd>\n",
       "</dl>\n"
      ],
      "text/latex": [
       "\\begin{description*}\n",
       "\\item[value] 53.3986260411139\n",
       "\\item[numdf] 1\n",
       "\\item[dendf] 48\n",
       "\\end{description*}\n"
      ],
      "text/markdown": [
       "value\n",
       ":   53.3986260411139numdf\n",
       ":   1dendf\n",
       ":   48\n",
       "\n"
      ],
      "text/plain": [
       "   value    numdf    dendf \n",
       "53.39863  1.00000 48.00000 "
      ]
     },
     "metadata": {},
     "output_type": "display_data"
    }
   ],
   "source": [
    "F <- modelSummary$fstatistic\n",
    "F"
   ]
  },
  {
   "cell_type": "markdown",
   "metadata": {},
   "source": [
    "Sprawdź, czy model jest istotny statystycznie za pomocą statystyki *F* i porównaj z *p*-wartością zwracaną przez `modelSummary`:"
   ]
  },
  {
   "cell_type": "code",
   "execution_count": 18,
   "metadata": {},
   "outputs": [
    {
     "data": {
      "text/html": [
       "<strong>value:</strong> 2.48788967205371e-09"
      ],
      "text/latex": [
       "\\textbf{value:} 2.48788967205371e-09"
      ],
      "text/markdown": [
       "**value:** 2.48788967205371e-09"
      ],
      "text/plain": [
       "      value \n",
       "2.48789e-09 "
      ]
     },
     "metadata": {},
     "output_type": "display_data"
    }
   ],
   "source": [
    "1 - pf(F[1], F[2], F[3])"
   ]
  },
  {
   "cell_type": "markdown",
   "metadata": {},
   "source": [
    "Wyznacz również SST, SSE i SSR:"
   ]
  },
  {
   "cell_type": "code",
   "execution_count": 19,
   "metadata": {},
   "outputs": [
    {
     "data": {
      "text/html": [
       "2.8421709430404e-14"
      ],
      "text/latex": [
       "2.8421709430404e-14"
      ],
      "text/markdown": [
       "2.8421709430404e-14"
      ],
      "text/plain": [
       "[1] 2.842171e-14"
      ]
     },
     "metadata": {},
     "output_type": "display_data"
    }
   ],
   "source": [
    "yMean <- mean(Regresja$Y)\n",
    "SST <- sum((Regresja$Y - yMean)^2)\n",
    "SSR <- sum((Yp - yMean)^2)\n",
    "SSE <- sum((Regresja$Y - Yp)^2)\n",
    "SST - SSR - SSE"
   ]
  },
  {
   "cell_type": "markdown",
   "metadata": {},
   "source": [
    "Na koniec możesz wyświetlić wykresy diagnostyczne:"
   ]
  },
  {
   "cell_type": "code",
   "execution_count": 20,
   "metadata": {},
   "outputs": [
    {
     "data": {
      "image/png": "[encoded data removed]",
      "text/plain": [
       "Plot with title \"\""
      ]
     },
     "metadata": {},
     "output_type": "display_data"
    },
    {
     "data": {
      "image/png": "[encoded data removed]",
      "text/plain": [
       "Plot with title \"\""
      ]
     },
     "metadata": {},
     "output_type": "display_data"
    },
    {
     "data": {
      "image/png": "[encoded data removed]",
      "text/plain": [
       "Plot with title \"\""
      ]
     },
     "metadata": {},
     "output_type": "display_data"
    },
    {
     "data": {
      "image/png": "[encoded data removed]",
      "text/plain": [
       "Plot with title \"\""
      ]
     },
     "metadata": {},
     "output_type": "display_data"
    }
   ],
   "source": [
    "plot(model)"
   ]
  },
  {
   "cell_type": "markdown",
   "metadata": {},
   "source": [
    "Czyszczenie przestrzeni roboczej (usunięcie wszystkich zmiennych, funkcji, itp.)"
   ]
  },
  {
   "cell_type": "code",
   "execution_count": 21,
   "metadata": {},
   "outputs": [],
   "source": [
    "rm(list = ls())"
   ]
  },
  {
   "cell_type": "markdown",
   "metadata": {},
   "source": [
    "### Ćwiczenie 2: Dane medyczne\n",
    "\n",
    "Wysunięto hipotezę, że istnieje związek pomiędzy czasem działania pewnego leku u chorych na zaburzenia układu krążenia a aktywnością pewnego enzymu. Losowa próba dała następujące wyniki (patrz tabela). Dla zmiennych *x* i *y* należy:\n",
    " - wyliczyć współczynnik korelacji Pearsona\n",
    " - utworzyć wykres rozrzutu \n",
    " - obliczyć funkcję regresji i dodaj do wykresu linię trendu\n",
    " - Czy odrzucenie danych o pewnych obserwacjach mogłoby poprawić wyniki?\n",
    " - Czy jeszcze jakaś transformacja zbioru danych pozwoliłaby na dalsze polepszenie wyników ?\n",
    "\n",
    "Zaczynamy od załadowania danych wykonując poniższy kod:"
   ]
  },
  {
   "cell_type": "code",
   "execution_count": 22,
   "metadata": {},
   "outputs": [],
   "source": [
    "Dane <- read.csv(url(\"http://www.cs.put.poznan.pl/swilk/siad/10-cw2.csv\"), sep=\";\")"
   ]
  },
  {
   "cell_type": "markdown",
   "metadata": {},
   "source": [
    "Dane te zawierają informację o płci, czasie działania leku (`x`) i aktywności enzymu (`y`). Wyświetl tabelę z danymi:"
   ]
  },
  {
   "cell_type": "code",
   "execution_count": 26,
   "metadata": {
    "scrolled": true
   },
   "outputs": [
    {
     "data": {
      "text/html": [
       "<table>\n",
       "<thead><tr><th scope=col>plec</th><th scope=col>x</th><th scope=col>y</th></tr></thead>\n",
       "<tbody>\n",
       "\t<tr><td>k   </td><td>15.6</td><td>44.5</td></tr>\n",
       "\t<tr><td>k   </td><td>10.6</td><td>44.0</td></tr>\n",
       "\t<tr><td>k   </td><td>16.9</td><td>25.8</td></tr>\n",
       "\t<tr><td>k   </td><td>15.0</td><td>39.3</td></tr>\n",
       "\t<tr><td>k   </td><td> 6.7</td><td>21.8</td></tr>\n",
       "\t<tr><td>k   </td><td>12.0</td><td>37.3</td></tr>\n",
       "\t<tr><td>k   </td><td>16.0</td><td>43.5</td></tr>\n",
       "\t<tr><td>k   </td><td>13.0</td><td>21.3</td></tr>\n",
       "\t<tr><td>k   </td><td> 9.7</td><td>32.8</td></tr>\n",
       "\t<tr><td>k   </td><td> 7.8</td><td>43.0</td></tr>\n",
       "\t<tr><td>k   </td><td>15.0</td><td> 7.1</td></tr>\n",
       "\t<tr><td>k   </td><td>14.0</td><td> 5.0</td></tr>\n",
       "\t<tr><td>m   </td><td>21.7</td><td>23.1</td></tr>\n",
       "\t<tr><td>m   </td><td>14.5</td><td>29.6</td></tr>\n",
       "\t<tr><td>m   </td><td>17.3</td><td>27.1</td></tr>\n",
       "\t<tr><td>m   </td><td>22.4</td><td>23.6</td></tr>\n",
       "\t<tr><td>m   </td><td>20.9</td><td>25.2</td></tr>\n",
       "\t<tr><td>m   </td><td>20.3</td><td>24.2</td></tr>\n",
       "\t<tr><td>m   </td><td>24.7</td><td>22.2</td></tr>\n",
       "\t<tr><td>m   </td><td>15.3</td><td>28.8</td></tr>\n",
       "\t<tr><td>m   </td><td>18.6</td><td>26.9</td></tr>\n",
       "\t<tr><td>m   </td><td>23.6</td><td>22.5</td></tr>\n",
       "</tbody>\n",
       "</table>\n"
      ],
      "text/latex": [
       "\\begin{tabular}{r|lll}\n",
       " plec & x & y\\\\\n",
       "\\hline\n",
       "\t k    & 15.6 & 44.5\\\\\n",
       "\t k    & 10.6 & 44.0\\\\\n",
       "\t k    & 16.9 & 25.8\\\\\n",
       "\t k    & 15.0 & 39.3\\\\\n",
       "\t k    &  6.7 & 21.8\\\\\n",
       "\t k    & 12.0 & 37.3\\\\\n",
       "\t k    & 16.0 & 43.5\\\\\n",
       "\t k    & 13.0 & 21.3\\\\\n",
       "\t k    &  9.7 & 32.8\\\\\n",
       "\t k    &  7.8 & 43.0\\\\\n",
       "\t k    & 15.0 &  7.1\\\\\n",
       "\t k    & 14.0 &  5.0\\\\\n",
       "\t m    & 21.7 & 23.1\\\\\n",
       "\t m    & 14.5 & 29.6\\\\\n",
       "\t m    & 17.3 & 27.1\\\\\n",
       "\t m    & 22.4 & 23.6\\\\\n",
       "\t m    & 20.9 & 25.2\\\\\n",
       "\t m    & 20.3 & 24.2\\\\\n",
       "\t m    & 24.7 & 22.2\\\\\n",
       "\t m    & 15.3 & 28.8\\\\\n",
       "\t m    & 18.6 & 26.9\\\\\n",
       "\t m    & 23.6 & 22.5\\\\\n",
       "\\end{tabular}\n"
      ],
      "text/markdown": [
       "\n",
       "| plec | x | y |\n",
       "|---|---|---|\n",
       "| k    | 15.6 | 44.5 |\n",
       "| k    | 10.6 | 44.0 |\n",
       "| k    | 16.9 | 25.8 |\n",
       "| k    | 15.0 | 39.3 |\n",
       "| k    |  6.7 | 21.8 |\n",
       "| k    | 12.0 | 37.3 |\n",
       "| k    | 16.0 | 43.5 |\n",
       "| k    | 13.0 | 21.3 |\n",
       "| k    |  9.7 | 32.8 |\n",
       "| k    |  7.8 | 43.0 |\n",
       "| k    | 15.0 |  7.1 |\n",
       "| k    | 14.0 |  5.0 |\n",
       "| m    | 21.7 | 23.1 |\n",
       "| m    | 14.5 | 29.6 |\n",
       "| m    | 17.3 | 27.1 |\n",
       "| m    | 22.4 | 23.6 |\n",
       "| m    | 20.9 | 25.2 |\n",
       "| m    | 20.3 | 24.2 |\n",
       "| m    | 24.7 | 22.2 |\n",
       "| m    | 15.3 | 28.8 |\n",
       "| m    | 18.6 | 26.9 |\n",
       "| m    | 23.6 | 22.5 |\n",
       "\n"
      ],
      "text/plain": [
       "   plec x    y   \n",
       "1  k    15.6 44.5\n",
       "2  k    10.6 44.0\n",
       "3  k    16.9 25.8\n",
       "4  k    15.0 39.3\n",
       "5  k     6.7 21.8\n",
       "6  k    12.0 37.3\n",
       "7  k    16.0 43.5\n",
       "8  k    13.0 21.3\n",
       "9  k     9.7 32.8\n",
       "10 k     7.8 43.0\n",
       "11 k    15.0  7.1\n",
       "12 k    14.0  5.0\n",
       "13 m    21.7 23.1\n",
       "14 m    14.5 29.6\n",
       "15 m    17.3 27.1\n",
       "16 m    22.4 23.6\n",
       "17 m    20.9 25.2\n",
       "18 m    20.3 24.2\n",
       "19 m    24.7 22.2\n",
       "20 m    15.3 28.8\n",
       "21 m    18.6 26.9\n",
       "22 m    23.6 22.5"
      ]
     },
     "metadata": {},
     "output_type": "display_data"
    }
   ],
   "source": [
    "Dane"
   ]
  },
  {
   "cell_type": "markdown",
   "metadata": {},
   "source": [
    "Wyznacz współczynnik korelacji Pearsona:"
   ]
  },
  {
   "cell_type": "code",
   "execution_count": 28,
   "metadata": {},
   "outputs": [
    {
     "data": {
      "text/html": [
       "-0.302252739234036"
      ],
      "text/latex": [
       "-0.302252739234036"
      ],
      "text/markdown": [
       "-0.302252739234036"
      ],
      "text/plain": [
       "[1] -0.3022527"
      ]
     },
     "metadata": {},
     "output_type": "display_data"
    }
   ],
   "source": [
    "wspKor <- cor(Dane$x, Dane$y)\n",
    "wspKor"
   ]
  },
  {
   "cell_type": "markdown",
   "metadata": {},
   "source": [
    "Korzystajac z funkcji `plot` utwórz wykres rozrzutu dla tych danych. Opisz odpowiednio osie wykresu. Wyznacz funkcję regresji i dodaj ją do wykresu:"
   ]
  },
  {
   "cell_type": "code",
   "execution_count": 29,
   "metadata": {},
   "outputs": [
    {
     "data": {
      "image/png": "[encoded data removed]",
      "text/plain": [
       "Plot with title \"Dane medyczne\""
      ]
     },
     "metadata": {},
     "output_type": "display_data"
    }
   ],
   "source": [
    "plot( Dane$x, Dane$y, main=\"Dane medyczne\", xlab=\"czas dzialania leku\", ylab=\"aktywność enzymu\")\n",
    "model <- lm(y~x,Dane)\n",
    "abline(model)"
   ]
  },
  {
   "cell_type": "markdown",
   "metadata": {},
   "source": [
    "Sprawdź, czy wynik jest istotny na poziomie istotności *alfa=0.05* za pomocą funkcji `summary` lub ręcznie wyznaczając *p*-wartość statystyki *F*:"
   ]
  },
  {
   "cell_type": "code",
   "execution_count": 39,
   "metadata": {},
   "outputs": [
    {
     "data": {
      "text/html": [
       "<strong>value:</strong> 0.171572744235917"
      ],
      "text/latex": [
       "\\textbf{value:} 0.171572744235917"
      ],
      "text/markdown": [
       "**value:** 0.171572744235917"
      ],
      "text/plain": [
       "    value \n",
       "0.1715727 "
      ]
     },
     "metadata": {},
     "output_type": "display_data"
    }
   ],
   "source": [
    "podsumowanie_modelu <- summary(model)\n",
    "test_F <- podsumowanie_modelu$fstatistic\n",
    "P_wartosc <- 1 - pf(test_F[1],test_F[2], test_F[3])\n",
    "P_wartosc\n",
    "#wynik nie jest istotny statystycznie (p-value > alfa)"
   ]
  },
  {
   "cell_type": "markdown",
   "metadata": {},
   "source": [
    "Czy odrzucenie części danych mogłoby poprawić wyniki?"
   ]
  },
  {
   "cell_type": "code",
   "execution_count": 41,
   "metadata": {},
   "outputs": [
    {
     "data": {
      "text/html": [
       "<strong>value:</strong> 0.745492382722015"
      ],
      "text/latex": [
       "\\textbf{value:} 0.745492382722015"
      ],
      "text/markdown": [
       "**value:** 0.745492382722015"
      ],
      "text/plain": [
       "    value \n",
       "0.7454924 "
      ]
     },
     "metadata": {},
     "output_type": "display_data"
    },
    {
     "data": {
      "image/png": "[encoded data removed]",
      "text/plain": [
       "Plot with title \"Dane medyczne kobiet\""
      ]
     },
     "metadata": {},
     "output_type": "display_data"
    }
   ],
   "source": [
    "DaneK <- Dane[Dane$plec == \"k\",]\n",
    "\n",
    "plot( DaneK$x, DaneK$y, main=\"Dane medyczne kobiet\", xlab=\"czas dzialania leku\", ylab=\"aktywność enzymu\")\n",
    "modelK <- lm(y~x,DaneK)\n",
    "abline(modelK)\n",
    "podsumowanie_modeluK <-summary(modelK)\n",
    "test_FK <- podsumowanie_modeluK$fstatistic\n",
    "P_wartoscK <- 1 - pf(test_FK[1],test_FK[2], test_FK[3])\n",
    "P_wartoscK\n",
    "#wynik nie jest istotny statystycznie (p-value >> alfa)"
   ]
  },
  {
   "cell_type": "code",
   "execution_count": 43,
   "metadata": {
    "scrolled": true
   },
   "outputs": [
    {
     "data": {
      "text/html": [
       "<strong>value:</strong> 7.19226518008931e-07"
      ],
      "text/latex": [
       "\\textbf{value:} 7.19226518008931e-07"
      ],
      "text/markdown": [
       "**value:** 7.19226518008931e-07"
      ],
      "text/plain": [
       "       value \n",
       "7.192265e-07 "
      ]
     },
     "metadata": {},
     "output_type": "display_data"
    },
    {
     "data": {
      "image/png": "[encoded data removed]",
      "text/plain": [
       "Plot with title \"Dane medyczne mężczyzn\""
      ]
     },
     "metadata": {},
     "output_type": "display_data"
    }
   ],
   "source": [
    "DaneM <- Dane[Dane$plec == \"m\",]\n",
    "\n",
    "plot( DaneM$x, DaneM$y, main=\"Dane medyczne mężczyzn\", xlab=\"czas dzialania leku\", ylab=\"aktywność enzymu\")\n",
    "modelM <- lm(y~x,DaneM)\n",
    "abline(modelM)\n",
    "podsumowanie_modeluM <-summary(modelM)\n",
    "test_FM <- podsumowanie_modeluM$fstatistic\n",
    "P_wartoscM <- 1 - pf(test_FM[1],test_FM[2], test_FM[3])\n",
    "P_wartoscM\n",
    "#wynik jest istotny statystycznie (p-value < alfa)"
   ]
  },
  {
   "cell_type": "markdown",
   "metadata": {},
   "source": [
    "Czyścimy przestrzeń roboczą:"
   ]
  },
  {
   "cell_type": "code",
   "execution_count": 44,
   "metadata": {},
   "outputs": [],
   "source": [
    "rm(list = ls())"
   ]
  },
  {
   "cell_type": "markdown",
   "metadata": {},
   "source": [
    "### Ćwiczenie 3: Szacowanie czasu pracy programistów\n",
    "\n",
    "Baza danych historycznych obejmuje oszacowane przez programistów czasy pracy oraz faktyczny rozmiar programu. Sprawdź, czy te dwie zmienne są zależne i przeprowadź analizę regresji. Powyższe zadanie ilustruje jeden z elementów metody PSP.\n",
    "\n",
    "Wczytaj i wyświetl dane z pliku:\n",
    " "
   ]
  },
  {
   "cell_type": "code",
   "execution_count": 45,
   "metadata": {},
   "outputs": [
    {
     "data": {
      "text/html": [
       "<table>\n",
       "<thead><tr><th scope=col>rozmiar</th><th scope=col>czas</th></tr></thead>\n",
       "<tbody>\n",
       "\t<tr><td> 186</td><td>130 </td></tr>\n",
       "\t<tr><td> 699</td><td>650 </td></tr>\n",
       "\t<tr><td> 132</td><td> 99 </td></tr>\n",
       "\t<tr><td> 272</td><td>150 </td></tr>\n",
       "\t<tr><td> 291</td><td>128 </td></tr>\n",
       "\t<tr><td> 331</td><td>302 </td></tr>\n",
       "\t<tr><td> 199</td><td> 95 </td></tr>\n",
       "\t<tr><td>1890</td><td>945 </td></tr>\n",
       "\t<tr><td> 788</td><td>368 </td></tr>\n",
       "\t<tr><td>1601</td><td>961 </td></tr>\n",
       "</tbody>\n",
       "</table>\n"
      ],
      "text/latex": [
       "\\begin{tabular}{r|ll}\n",
       " rozmiar & czas\\\\\n",
       "\\hline\n",
       "\t  186 & 130 \\\\\n",
       "\t  699 & 650 \\\\\n",
       "\t  132 &  99 \\\\\n",
       "\t  272 & 150 \\\\\n",
       "\t  291 & 128 \\\\\n",
       "\t  331 & 302 \\\\\n",
       "\t  199 &  95 \\\\\n",
       "\t 1890 & 945 \\\\\n",
       "\t  788 & 368 \\\\\n",
       "\t 1601 & 961 \\\\\n",
       "\\end{tabular}\n"
      ],
      "text/markdown": [
       "\n",
       "| rozmiar | czas |\n",
       "|---|---|\n",
       "|  186 | 130  |\n",
       "|  699 | 650  |\n",
       "|  132 |  99  |\n",
       "|  272 | 150  |\n",
       "|  291 | 128  |\n",
       "|  331 | 302  |\n",
       "|  199 |  95  |\n",
       "| 1890 | 945  |\n",
       "|  788 | 368  |\n",
       "| 1601 | 961  |\n",
       "\n"
      ],
      "text/plain": [
       "   rozmiar czas\n",
       "1   186    130 \n",
       "2   699    650 \n",
       "3   132     99 \n",
       "4   272    150 \n",
       "5   291    128 \n",
       "6   331    302 \n",
       "7   199     95 \n",
       "8  1890    945 \n",
       "9   788    368 \n",
       "10 1601    961 "
      ]
     },
     "metadata": {},
     "output_type": "display_data"
    }
   ],
   "source": [
    "Programy <- read.csv(url(\"http://www.cs.put.poznan.pl/swilk/siad/10-cw3.csv\"), sep=\";\")\n",
    "Programy"
   ]
  },
  {
   "cell_type": "markdown",
   "metadata": {},
   "source": [
    "Teraz dołączymy `Programy` do ścieżki przeszukiwania nazw zmiennych. Dzięki temu możemy odwoływać się do zmiennych w `Programy` bez konieczności każdorazowego zaznaczania ramki danych"
   ]
  },
  {
   "cell_type": "code",
   "execution_count": 46,
   "metadata": {},
   "outputs": [],
   "source": [
    "attach(Programy)"
   ]
  },
  {
   "cell_type": "markdown",
   "metadata": {},
   "source": [
    "Np. wyznaczenie współczynnika korelacji Pearsona wygląda teraz tak:"
   ]
  },
  {
   "cell_type": "code",
   "execution_count": 47,
   "metadata": {},
   "outputs": [],
   "source": [
    "wspKor <- cor(rozmiar, czas)"
   ]
  },
  {
   "cell_type": "markdown",
   "metadata": {},
   "source": [
    "Utwórz wykres rozrzutu (czas w funkcji rozmiaru), oblicz funkcję regresji i dodaj ją do wykresu:"
   ]
  },
  {
   "cell_type": "code",
   "execution_count": 48,
   "metadata": {
    "scrolled": true
   },
   "outputs": [
    {
     "data": {
      "image/png": "[encoded data removed]",
      "text/plain": [
       "Plot with title \"Programy\""
      ]
     },
     "metadata": {},
     "output_type": "display_data"
    }
   ],
   "source": [
    "plot(rozmiar, czas, main=\"Programy\", xlab=\"rozmiar\", ylab=\"czas\")\n",
    "model <- lm(czas~rozmiar)\n",
    "abline(model)"
   ]
  },
  {
   "cell_type": "markdown",
   "metadata": {},
   "source": [
    "Sprawdź, czy wynik jest istotny na poziomie istotności *alfa=0.05* za pomocą funkcji `summary`"
   ]
  },
  {
   "cell_type": "code",
   "execution_count": 49,
   "metadata": {},
   "outputs": [
    {
     "data": {
      "text/html": [
       "<strong>value:</strong> 1.77517178131525e-05"
      ],
      "text/latex": [
       "\\textbf{value:} 1.77517178131525e-05"
      ],
      "text/markdown": [
       "**value:** 1.77517178131525e-05"
      ],
      "text/plain": [
       "       value \n",
       "1.775172e-05 "
      ]
     },
     "metadata": {},
     "output_type": "display_data"
    }
   ],
   "source": [
    "podsumowanie_modelu <-summary(model)\n",
    "test_F <- podsumowanie_modelu$fstatistic\n",
    "P_wartosc <- 1 - pf(test_F[1],test_F[2], test_F[3])\n",
    "P_wartosc\n",
    "# wynik jest istotny statystycznie (p-value < alfa)"
   ]
  },
  {
   "cell_type": "markdown",
   "metadata": {},
   "source": [
    "Zinterpretuj współczynniki modelu"
   ]
  },
  {
   "cell_type": "code",
   "execution_count": 50,
   "metadata": {},
   "outputs": [
    {
     "data": {
      "text/plain": [
       "\n",
       "Call:\n",
       "lm(formula = czas ~ rozmiar)\n",
       "\n",
       "Coefficients:\n",
       "(Intercept)      rozmiar  \n",
       "    45.9358       0.5273  \n"
      ]
     },
     "metadata": {},
     "output_type": "display_data"
    }
   ],
   "source": [
    "model"
   ]
  },
  {
   "cell_type": "markdown",
   "metadata": {},
   "source": [
    "Odłącz ramkę danych od ścieżki i wyczyść przestrzeń roboczą:"
   ]
  },
  {
   "cell_type": "code",
   "execution_count": 51,
   "metadata": {},
   "outputs": [],
   "source": [
    "detach(Programy)\n",
    "rm(list = ls())"
   ]
  },
  {
   "cell_type": "markdown",
   "metadata": {},
   "source": [
    "### Ćwiczenie 4: Analiza regresji wielu zmiennych (wieloraka)\n",
    "\n",
    "Zadanie demonstracyjne, które pokaże przykład analizy regresji wielu zmiennych i różnicę między testem *t* na istotoność zmiennych w modelu, a globalnym testem *F*.\n",
    "\n",
    "Wczytaj dane z pliku 10-cw4.csv i wyświetl tabelę danych. Jest to zbiór danych ekonomicznych, gdzie `Exports` jest zmienną objaśnianą (*Y*), a pozostałe są zmiennymi objaśniającymi (*X*)"
   ]
  },
  {
   "cell_type": "code",
   "execution_count": 52,
   "metadata": {},
   "outputs": [
    {
     "data": {
      "text/html": [
       "<table>\n",
       "<thead><tr><th scope=col>Exports</th><th scope=col>M1</th><th scope=col>Lend</th><th scope=col>Price</th><th scope=col>Exchange</th></tr></thead>\n",
       "<tbody>\n",
       "\t<tr><td>2.6 </td><td>5.1 </td><td> 7.8</td><td>114 </td><td>2.2 </td></tr>\n",
       "\t<tr><td>2.6 </td><td>4.9 </td><td> 8.0</td><td>116 </td><td>2.2 </td></tr>\n",
       "\t<tr><td>2.7 </td><td>5.1 </td><td> 8.1</td><td>117 </td><td>2.2 </td></tr>\n",
       "\t<tr><td>3.0 </td><td>5.1 </td><td> 8.1</td><td>122 </td><td>2.2 </td></tr>\n",
       "\t<tr><td>2.9 </td><td>5.1 </td><td> 8.1</td><td>124 </td><td>2.2 </td></tr>\n",
       "\t<tr><td>3.1 </td><td>5.2 </td><td> 8.1</td><td>128 </td><td>2.2 </td></tr>\n",
       "\t<tr><td>3.2 </td><td>5.1 </td><td> 8.3</td><td>132 </td><td>2.1 </td></tr>\n",
       "\t<tr><td>3.7 </td><td>5.2 </td><td> 8.8</td><td>133 </td><td>2.2 </td></tr>\n",
       "\t<tr><td>3.6 </td><td>5.3 </td><td> 8.9</td><td>133 </td><td>2.2 </td></tr>\n",
       "\t<tr><td>3.4 </td><td>5.4 </td><td> 9.1</td><td>134 </td><td>2.2 </td></tr>\n",
       "\t<tr><td>3.7 </td><td>5.7 </td><td> 9.2</td><td>135 </td><td>2.2 </td></tr>\n",
       "\t<tr><td>3.6 </td><td>5.7 </td><td> 9.5</td><td>136 </td><td>2.2 </td></tr>\n",
       "\t<tr><td>4.1 </td><td>5.9 </td><td>10.3</td><td>140 </td><td>2.2 </td></tr>\n",
       "\t<tr><td>3.5 </td><td>5.8 </td><td>10.6</td><td>147 </td><td>2.2 </td></tr>\n",
       "\t<tr><td>4.2 </td><td>5.7 </td><td>11.3</td><td>150 </td><td>2.2 </td></tr>\n",
       "\t<tr><td>4.3 </td><td>5.8 </td><td>12.1</td><td>151 </td><td>2.2 </td></tr>\n",
       "\t<tr><td>4.2 </td><td>6.0 </td><td>12.0</td><td>151 </td><td>2.2 </td></tr>\n",
       "\t<tr><td>4.1 </td><td>6.0 </td><td>11.4</td><td>151 </td><td>2.1 </td></tr>\n",
       "\t<tr><td>4.6 </td><td>6.0 </td><td>11.1</td><td>153 </td><td>2.1 </td></tr>\n",
       "\t<tr><td>4.4 </td><td>6.0 </td><td>11.0</td><td>154 </td><td>2.1 </td></tr>\n",
       "\t<tr><td>4.5 </td><td>6.1 </td><td>11.3</td><td>154 </td><td>2.1 </td></tr>\n",
       "\t<tr><td>4.6 </td><td>6.0 </td><td>12.6</td><td>154 </td><td>2.1 </td></tr>\n",
       "\t<tr><td>4.6 </td><td>6.1 </td><td>13.6</td><td>155 </td><td>2.1 </td></tr>\n",
       "\t<tr><td>4.2 </td><td>6.7 </td><td>13.6</td><td>155 </td><td>2.1 </td></tr>\n",
       "\t<tr><td>5.5 </td><td>6.2 </td><td>14.3</td><td>156 </td><td>2.1 </td></tr>\n",
       "\t<tr><td>3.7 </td><td>6.3 </td><td>14.3</td><td>156 </td><td>2.1 </td></tr>\n",
       "\t<tr><td>4.9 </td><td>7.0 </td><td>13.7</td><td>159 </td><td>2.1 </td></tr>\n",
       "\t<tr><td>5.2 </td><td>7.0 </td><td>12.7</td><td>161 </td><td>2.1 </td></tr>\n",
       "\t<tr><td>4.9 </td><td>6.6 </td><td>12.6</td><td>161 </td><td>2.2 </td></tr>\n",
       "\t<tr><td>4.6 </td><td>6.4 </td><td>13.4</td><td>161 </td><td>2.1 </td></tr>\n",
       "\t<tr><td>...</td><td>...</td><td>...</td><td>...</td><td>...</td></tr>\n",
       "\t<tr><td>4.8 </td><td>7.1 </td><td>10.1</td><td>154 </td><td>2.1 </td></tr>\n",
       "\t<tr><td>5.4 </td><td>7.0 </td><td>10.0</td><td>154 </td><td>2.1 </td></tr>\n",
       "\t<tr><td>5.0 </td><td>7.5 </td><td>10.2</td><td>154 </td><td>2.1 </td></tr>\n",
       "\t<tr><td>5.2 </td><td>7.4 </td><td>11.0</td><td>153 </td><td>2.0 </td></tr>\n",
       "\t<tr><td>4.7 </td><td>7.4 </td><td>11.0</td><td>152 </td><td>2.1 </td></tr>\n",
       "\t<tr><td>5.1 </td><td>7.3 </td><td>10.7</td><td>152 </td><td>2.2 </td></tr>\n",
       "\t<tr><td>4.9 </td><td>7.6 </td><td>10.2</td><td>152 </td><td>2.2 </td></tr>\n",
       "\t<tr><td>4.9 </td><td>7.8 </td><td>10.0</td><td>151 </td><td>2.2 </td></tr>\n",
       "\t<tr><td>5.3 </td><td>7.8 </td><td> 9.8</td><td>152 </td><td>2.2 </td></tr>\n",
       "\t<tr><td>4.8 </td><td>8.2 </td><td> 9.3</td><td>152 </td><td>2.2 </td></tr>\n",
       "\t<tr><td>4.9 </td><td>8.2 </td><td> 9.3</td><td>152 </td><td>2.2 </td></tr>\n",
       "\t<tr><td>5.1 </td><td>8.3 </td><td> 9.5</td><td>152 </td><td>2.1 </td></tr>\n",
       "\t<tr><td>4.3 </td><td>8.3 </td><td> 9.2</td><td>150 </td><td>2.1 </td></tr>\n",
       "\t<tr><td>4.9 </td><td>8.0 </td><td> 9.1</td><td>147 </td><td>2.1 </td></tr>\n",
       "\t<tr><td>5.3 </td><td>8.2 </td><td> 9.0</td><td>147 </td><td>2.1 </td></tr>\n",
       "\t<tr><td>4.8 </td><td>8.2 </td><td> 9.0</td><td>146 </td><td>2.1 </td></tr>\n",
       "\t<tr><td>5.3 </td><td>8.0 </td><td> 8.9</td><td>145 </td><td>2.1 </td></tr>\n",
       "\t<tr><td>5.0 </td><td>8.1 </td><td> 9.0</td><td>145 </td><td>2.1 </td></tr>\n",
       "\t<tr><td>5.1 </td><td>8.1 </td><td> 9.0</td><td>146 </td><td>2.1 </td></tr>\n",
       "\t<tr><td>4.8 </td><td>8.1 </td><td> 9.0</td><td>147 </td><td>2.1 </td></tr>\n",
       "\t<tr><td>4.8 </td><td>8.1 </td><td> 8.9</td><td>147 </td><td>2.1 </td></tr>\n",
       "\t<tr><td>5.2 </td><td>8.6 </td><td> 8.9</td><td>147 </td><td>2.1 </td></tr>\n",
       "\t<tr><td>4.9 </td><td>8.8 </td><td> 9.0</td><td>146 </td><td>2.1 </td></tr>\n",
       "\t<tr><td>5.5 </td><td>8.4 </td><td> 9.1</td><td>147 </td><td>2.1 </td></tr>\n",
       "\t<tr><td>4.3 </td><td>8.2 </td><td> 9.0</td><td>146 </td><td>2.1 </td></tr>\n",
       "\t<tr><td>5.2 </td><td>8.3 </td><td> 9.2</td><td>146 </td><td>2.1 </td></tr>\n",
       "\t<tr><td>4.7 </td><td>8.3 </td><td> 9.6</td><td>146 </td><td>2.1 </td></tr>\n",
       "\t<tr><td>5.4 </td><td>8.4 </td><td>10.0</td><td>146 </td><td>2.1 </td></tr>\n",
       "\t<tr><td>5.2 </td><td>8.3 </td><td>10.0</td><td>147 </td><td>2.1 </td></tr>\n",
       "\t<tr><td>5.6 </td><td>8.2 </td><td>10.1</td><td>146 </td><td>2.2 </td></tr>\n",
       "</tbody>\n",
       "</table>\n"
      ],
      "text/latex": [
       "\\begin{tabular}{r|lllll}\n",
       " Exports & M1 & Lend & Price & Exchange\\\\\n",
       "\\hline\n",
       "\t 2.6  & 5.1  &  7.8 & 114  & 2.2 \\\\\n",
       "\t 2.6  & 4.9  &  8.0 & 116  & 2.2 \\\\\n",
       "\t 2.7  & 5.1  &  8.1 & 117  & 2.2 \\\\\n",
       "\t 3.0  & 5.1  &  8.1 & 122  & 2.2 \\\\\n",
       "\t 2.9  & 5.1  &  8.1 & 124  & 2.2 \\\\\n",
       "\t 3.1  & 5.2  &  8.1 & 128  & 2.2 \\\\\n",
       "\t 3.2  & 5.1  &  8.3 & 132  & 2.1 \\\\\n",
       "\t 3.7  & 5.2  &  8.8 & 133  & 2.2 \\\\\n",
       "\t 3.6  & 5.3  &  8.9 & 133  & 2.2 \\\\\n",
       "\t 3.4  & 5.4  &  9.1 & 134  & 2.2 \\\\\n",
       "\t 3.7  & 5.7  &  9.2 & 135  & 2.2 \\\\\n",
       "\t 3.6  & 5.7  &  9.5 & 136  & 2.2 \\\\\n",
       "\t 4.1  & 5.9  & 10.3 & 140  & 2.2 \\\\\n",
       "\t 3.5  & 5.8  & 10.6 & 147  & 2.2 \\\\\n",
       "\t 4.2  & 5.7  & 11.3 & 150  & 2.2 \\\\\n",
       "\t 4.3  & 5.8  & 12.1 & 151  & 2.2 \\\\\n",
       "\t 4.2  & 6.0  & 12.0 & 151  & 2.2 \\\\\n",
       "\t 4.1  & 6.0  & 11.4 & 151  & 2.1 \\\\\n",
       "\t 4.6  & 6.0  & 11.1 & 153  & 2.1 \\\\\n",
       "\t 4.4  & 6.0  & 11.0 & 154  & 2.1 \\\\\n",
       "\t 4.5  & 6.1  & 11.3 & 154  & 2.1 \\\\\n",
       "\t 4.6  & 6.0  & 12.6 & 154  & 2.1 \\\\\n",
       "\t 4.6  & 6.1  & 13.6 & 155  & 2.1 \\\\\n",
       "\t 4.2  & 6.7  & 13.6 & 155  & 2.1 \\\\\n",
       "\t 5.5  & 6.2  & 14.3 & 156  & 2.1 \\\\\n",
       "\t 3.7  & 6.3  & 14.3 & 156  & 2.1 \\\\\n",
       "\t 4.9  & 7.0  & 13.7 & 159  & 2.1 \\\\\n",
       "\t 5.2  & 7.0  & 12.7 & 161  & 2.1 \\\\\n",
       "\t 4.9  & 6.6  & 12.6 & 161  & 2.2 \\\\\n",
       "\t 4.6  & 6.4  & 13.4 & 161  & 2.1 \\\\\n",
       "\t ... & ... & ... & ... & ...\\\\\n",
       "\t 4.8  & 7.1  & 10.1 & 154  & 2.1 \\\\\n",
       "\t 5.4  & 7.0  & 10.0 & 154  & 2.1 \\\\\n",
       "\t 5.0  & 7.5  & 10.2 & 154  & 2.1 \\\\\n",
       "\t 5.2  & 7.4  & 11.0 & 153  & 2.0 \\\\\n",
       "\t 4.7  & 7.4  & 11.0 & 152  & 2.1 \\\\\n",
       "\t 5.1  & 7.3  & 10.7 & 152  & 2.2 \\\\\n",
       "\t 4.9  & 7.6  & 10.2 & 152  & 2.2 \\\\\n",
       "\t 4.9  & 7.8  & 10.0 & 151  & 2.2 \\\\\n",
       "\t 5.3  & 7.8  &  9.8 & 152  & 2.2 \\\\\n",
       "\t 4.8  & 8.2  &  9.3 & 152  & 2.2 \\\\\n",
       "\t 4.9  & 8.2  &  9.3 & 152  & 2.2 \\\\\n",
       "\t 5.1  & 8.3  &  9.5 & 152  & 2.1 \\\\\n",
       "\t 4.3  & 8.3  &  9.2 & 150  & 2.1 \\\\\n",
       "\t 4.9  & 8.0  &  9.1 & 147  & 2.1 \\\\\n",
       "\t 5.3  & 8.2  &  9.0 & 147  & 2.1 \\\\\n",
       "\t 4.8  & 8.2  &  9.0 & 146  & 2.1 \\\\\n",
       "\t 5.3  & 8.0  &  8.9 & 145  & 2.1 \\\\\n",
       "\t 5.0  & 8.1  &  9.0 & 145  & 2.1 \\\\\n",
       "\t 5.1  & 8.1  &  9.0 & 146  & 2.1 \\\\\n",
       "\t 4.8  & 8.1  &  9.0 & 147  & 2.1 \\\\\n",
       "\t 4.8  & 8.1  &  8.9 & 147  & 2.1 \\\\\n",
       "\t 5.2  & 8.6  &  8.9 & 147  & 2.1 \\\\\n",
       "\t 4.9  & 8.8  &  9.0 & 146  & 2.1 \\\\\n",
       "\t 5.5  & 8.4  &  9.1 & 147  & 2.1 \\\\\n",
       "\t 4.3  & 8.2  &  9.0 & 146  & 2.1 \\\\\n",
       "\t 5.2  & 8.3  &  9.2 & 146  & 2.1 \\\\\n",
       "\t 4.7  & 8.3  &  9.6 & 146  & 2.1 \\\\\n",
       "\t 5.4  & 8.4  & 10.0 & 146  & 2.1 \\\\\n",
       "\t 5.2  & 8.3  & 10.0 & 147  & 2.1 \\\\\n",
       "\t 5.6  & 8.2  & 10.1 & 146  & 2.2 \\\\\n",
       "\\end{tabular}\n"
      ],
      "text/markdown": [
       "\n",
       "| Exports | M1 | Lend | Price | Exchange |\n",
       "|---|---|---|---|---|\n",
       "| 2.6  | 5.1  |  7.8 | 114  | 2.2  |\n",
       "| 2.6  | 4.9  |  8.0 | 116  | 2.2  |\n",
       "| 2.7  | 5.1  |  8.1 | 117  | 2.2  |\n",
       "| 3.0  | 5.1  |  8.1 | 122  | 2.2  |\n",
       "| 2.9  | 5.1  |  8.1 | 124  | 2.2  |\n",
       "| 3.1  | 5.2  |  8.1 | 128  | 2.2  |\n",
       "| 3.2  | 5.1  |  8.3 | 132  | 2.1  |\n",
       "| 3.7  | 5.2  |  8.8 | 133  | 2.2  |\n",
       "| 3.6  | 5.3  |  8.9 | 133  | 2.2  |\n",
       "| 3.4  | 5.4  |  9.1 | 134  | 2.2  |\n",
       "| 3.7  | 5.7  |  9.2 | 135  | 2.2  |\n",
       "| 3.6  | 5.7  |  9.5 | 136  | 2.2  |\n",
       "| 4.1  | 5.9  | 10.3 | 140  | 2.2  |\n",
       "| 3.5  | 5.8  | 10.6 | 147  | 2.2  |\n",
       "| 4.2  | 5.7  | 11.3 | 150  | 2.2  |\n",
       "| 4.3  | 5.8  | 12.1 | 151  | 2.2  |\n",
       "| 4.2  | 6.0  | 12.0 | 151  | 2.2  |\n",
       "| 4.1  | 6.0  | 11.4 | 151  | 2.1  |\n",
       "| 4.6  | 6.0  | 11.1 | 153  | 2.1  |\n",
       "| 4.4  | 6.0  | 11.0 | 154  | 2.1  |\n",
       "| 4.5  | 6.1  | 11.3 | 154  | 2.1  |\n",
       "| 4.6  | 6.0  | 12.6 | 154  | 2.1  |\n",
       "| 4.6  | 6.1  | 13.6 | 155  | 2.1  |\n",
       "| 4.2  | 6.7  | 13.6 | 155  | 2.1  |\n",
       "| 5.5  | 6.2  | 14.3 | 156  | 2.1  |\n",
       "| 3.7  | 6.3  | 14.3 | 156  | 2.1  |\n",
       "| 4.9  | 7.0  | 13.7 | 159  | 2.1  |\n",
       "| 5.2  | 7.0  | 12.7 | 161  | 2.1  |\n",
       "| 4.9  | 6.6  | 12.6 | 161  | 2.2  |\n",
       "| 4.6  | 6.4  | 13.4 | 161  | 2.1  |\n",
       "| ... | ... | ... | ... | ... |\n",
       "| 4.8  | 7.1  | 10.1 | 154  | 2.1  |\n",
       "| 5.4  | 7.0  | 10.0 | 154  | 2.1  |\n",
       "| 5.0  | 7.5  | 10.2 | 154  | 2.1  |\n",
       "| 5.2  | 7.4  | 11.0 | 153  | 2.0  |\n",
       "| 4.7  | 7.4  | 11.0 | 152  | 2.1  |\n",
       "| 5.1  | 7.3  | 10.7 | 152  | 2.2  |\n",
       "| 4.9  | 7.6  | 10.2 | 152  | 2.2  |\n",
       "| 4.9  | 7.8  | 10.0 | 151  | 2.2  |\n",
       "| 5.3  | 7.8  |  9.8 | 152  | 2.2  |\n",
       "| 4.8  | 8.2  |  9.3 | 152  | 2.2  |\n",
       "| 4.9  | 8.2  |  9.3 | 152  | 2.2  |\n",
       "| 5.1  | 8.3  |  9.5 | 152  | 2.1  |\n",
       "| 4.3  | 8.3  |  9.2 | 150  | 2.1  |\n",
       "| 4.9  | 8.0  |  9.1 | 147  | 2.1  |\n",
       "| 5.3  | 8.2  |  9.0 | 147  | 2.1  |\n",
       "| 4.8  | 8.2  |  9.0 | 146  | 2.1  |\n",
       "| 5.3  | 8.0  |  8.9 | 145  | 2.1  |\n",
       "| 5.0  | 8.1  |  9.0 | 145  | 2.1  |\n",
       "| 5.1  | 8.1  |  9.0 | 146  | 2.1  |\n",
       "| 4.8  | 8.1  |  9.0 | 147  | 2.1  |\n",
       "| 4.8  | 8.1  |  8.9 | 147  | 2.1  |\n",
       "| 5.2  | 8.6  |  8.9 | 147  | 2.1  |\n",
       "| 4.9  | 8.8  |  9.0 | 146  | 2.1  |\n",
       "| 5.5  | 8.4  |  9.1 | 147  | 2.1  |\n",
       "| 4.3  | 8.2  |  9.0 | 146  | 2.1  |\n",
       "| 5.2  | 8.3  |  9.2 | 146  | 2.1  |\n",
       "| 4.7  | 8.3  |  9.6 | 146  | 2.1  |\n",
       "| 5.4  | 8.4  | 10.0 | 146  | 2.1  |\n",
       "| 5.2  | 8.3  | 10.0 | 147  | 2.1  |\n",
       "| 5.6  | 8.2  | 10.1 | 146  | 2.2  |\n",
       "\n"
      ],
      "text/plain": [
       "    Exports M1  Lend Price Exchange\n",
       "1   2.6     5.1  7.8 114   2.2     \n",
       "2   2.6     4.9  8.0 116   2.2     \n",
       "3   2.7     5.1  8.1 117   2.2     \n",
       "4   3.0     5.1  8.1 122   2.2     \n",
       "5   2.9     5.1  8.1 124   2.2     \n",
       "6   3.1     5.2  8.1 128   2.2     \n",
       "7   3.2     5.1  8.3 132   2.1     \n",
       "8   3.7     5.2  8.8 133   2.2     \n",
       "9   3.6     5.3  8.9 133   2.2     \n",
       "10  3.4     5.4  9.1 134   2.2     \n",
       "11  3.7     5.7  9.2 135   2.2     \n",
       "12  3.6     5.7  9.5 136   2.2     \n",
       "13  4.1     5.9 10.3 140   2.2     \n",
       "14  3.5     5.8 10.6 147   2.2     \n",
       "15  4.2     5.7 11.3 150   2.2     \n",
       "16  4.3     5.8 12.1 151   2.2     \n",
       "17  4.2     6.0 12.0 151   2.2     \n",
       "18  4.1     6.0 11.4 151   2.1     \n",
       "19  4.6     6.0 11.1 153   2.1     \n",
       "20  4.4     6.0 11.0 154   2.1     \n",
       "21  4.5     6.1 11.3 154   2.1     \n",
       "22  4.6     6.0 12.6 154   2.1     \n",
       "23  4.6     6.1 13.6 155   2.1     \n",
       "24  4.2     6.7 13.6 155   2.1     \n",
       "25  5.5     6.2 14.3 156   2.1     \n",
       "26  3.7     6.3 14.3 156   2.1     \n",
       "27  4.9     7.0 13.7 159   2.1     \n",
       "28  5.2     7.0 12.7 161   2.1     \n",
       "29  4.9     6.6 12.6 161   2.2     \n",
       "30  4.6     6.4 13.4 161   2.1     \n",
       "... ...     ... ...  ...   ...     \n",
       "38  4.8     7.1 10.1 154   2.1     \n",
       "39  5.4     7.0 10.0 154   2.1     \n",
       "40  5.0     7.5 10.2 154   2.1     \n",
       "41  5.2     7.4 11.0 153   2.0     \n",
       "42  4.7     7.4 11.0 152   2.1     \n",
       "43  5.1     7.3 10.7 152   2.2     \n",
       "44  4.9     7.6 10.2 152   2.2     \n",
       "45  4.9     7.8 10.0 151   2.2     \n",
       "46  5.3     7.8  9.8 152   2.2     \n",
       "47  4.8     8.2  9.3 152   2.2     \n",
       "48  4.9     8.2  9.3 152   2.2     \n",
       "49  5.1     8.3  9.5 152   2.1     \n",
       "50  4.3     8.3  9.2 150   2.1     \n",
       "51  4.9     8.0  9.1 147   2.1     \n",
       "52  5.3     8.2  9.0 147   2.1     \n",
       "53  4.8     8.2  9.0 146   2.1     \n",
       "54  5.3     8.0  8.9 145   2.1     \n",
       "55  5.0     8.1  9.0 145   2.1     \n",
       "56  5.1     8.1  9.0 146   2.1     \n",
       "57  4.8     8.1  9.0 147   2.1     \n",
       "58  4.8     8.1  8.9 147   2.1     \n",
       "59  5.2     8.6  8.9 147   2.1     \n",
       "60  4.9     8.8  9.0 146   2.1     \n",
       "61  5.5     8.4  9.1 147   2.1     \n",
       "62  4.3     8.2  9.0 146   2.1     \n",
       "63  5.2     8.3  9.2 146   2.1     \n",
       "64  4.7     8.3  9.6 146   2.1     \n",
       "65  5.4     8.4 10.0 146   2.1     \n",
       "66  5.2     8.3 10.0 147   2.1     \n",
       "67  5.6     8.2 10.1 146   2.2     "
      ]
     },
     "metadata": {},
     "output_type": "display_data"
    }
   ],
   "source": [
    "Ekonom <- read.csv(url(\"http://www.cs.put.poznan.pl/swilk/siad/10-cw4.csv\"), sep=\";\")\n",
    "Ekonom"
   ]
  },
  {
   "cell_type": "markdown",
   "metadata": {},
   "source": [
    "Utwórz model liniowy zmiennej `Exports` w funkcji pozostałych zmiennych:"
   ]
  },
  {
   "cell_type": "code",
   "execution_count": 53,
   "metadata": {},
   "outputs": [
    {
     "data": {
      "text/plain": [
       "\n",
       "Call:\n",
       "lm(formula = Exports ~ ., data = Ekonom)\n",
       "\n",
       "Coefficients:\n",
       "(Intercept)           M1         Lend        Price     Exchange  \n",
       "  -4.047103     0.368372     0.002669     0.036862     0.268003  \n"
      ]
     },
     "metadata": {},
     "output_type": "display_data"
    }
   ],
   "source": [
    "model <- lm(Exports ~ ., Ekonom) # skrócony zapis dla lm(Exports ~ M1 + Lend + Price + Exchange, Ekonom)\n",
    "model"
   ]
  },
  {
   "cell_type": "markdown",
   "metadata": {},
   "source": [
    "Wyświetl podsumowanie modelu:"
   ]
  },
  {
   "cell_type": "code",
   "execution_count": 54,
   "metadata": {},
   "outputs": [
    {
     "data": {
      "text/plain": [
       "\n",
       "Call:\n",
       "lm(formula = Exports ~ ., data = Ekonom)\n",
       "\n",
       "Residuals:\n",
       "     Min       1Q   Median       3Q      Max \n",
       "-0.92502 -0.12779 -0.03198  0.18502  0.91181 \n",
       "\n",
       "Coefficients:\n",
       "             Estimate Std. Error t value Pr(>|t|)    \n",
       "(Intercept) -4.047103   2.329192  -1.738   0.0873 .  \n",
       "M1           0.368372   0.062276   5.915 1.55e-07 ***\n",
       "Lend         0.002669   0.047919   0.056   0.9558    \n",
       "Price        0.036862   0.009324   3.954   0.0002 ***\n",
       "Exchange     0.268003   0.928517   0.289   0.7738    \n",
       "---\n",
       "Signif. codes:  0 '***' 0.001 '**' 0.01 '*' 0.05 '.' 0.1 ' ' 1\n",
       "\n",
       "Residual standard error: 0.3357 on 62 degrees of freedom\n",
       "Multiple R-squared:  0.8251,\tAdjusted R-squared:  0.8138 \n",
       "F-statistic:  73.1 on 4 and 62 DF,  p-value: < 2.2e-16\n"
      ]
     },
     "metadata": {},
     "output_type": "display_data"
    }
   ],
   "source": [
    "summary(model)"
   ]
  },
  {
   "cell_type": "markdown",
   "metadata": {},
   "source": [
    "O ile sam model jest istotny statystycznie na poziomie *alfa=0.05* (*p*-wartość statystyki *F < 2.2e-16*), o tyle niektóre ze zmiennych nie są istotne statystycznie (*p*-wartość statystyki *t < 0.05*). Poniższa analiza może nam posłużyć do selekcji zmiennych istotnych statystycznie.\n",
    "\n",
    "Odrzucamy więc zmienne nieistotne statystycznie i pozostawiamy tylko `Exports`, `M1` i `Price`"
   ]
  },
  {
   "cell_type": "code",
   "execution_count": 57,
   "metadata": {},
   "outputs": [],
   "source": [
    "Ekonomia <-Ekonom[,c(\"Exports\", \"M1\", \"Price\")]\n",
    "#Ekonomia"
   ]
  },
  {
   "cell_type": "markdown",
   "metadata": {},
   "source": [
    "Ponownie wykonujemy analizę regresji:"
   ]
  },
  {
   "cell_type": "code",
   "execution_count": 58,
   "metadata": {},
   "outputs": [
    {
     "data": {
      "text/plain": [
       "\n",
       "Call:\n",
       "lm(formula = Exports ~ ., data = Ekonomia)\n",
       "\n",
       "Coefficients:\n",
       "(Intercept)           M1        Price  \n",
       "   -3.42296      0.36142      0.03703  \n"
      ]
     },
     "metadata": {},
     "output_type": "display_data"
    },
    {
     "data": {
      "text/plain": [
       "\n",
       "Call:\n",
       "lm(formula = Exports ~ ., data = Ekonomia)\n",
       "\n",
       "Residuals:\n",
       "     Min       1Q   Median       3Q      Max \n",
       "-0.93106 -0.12490 -0.02465  0.18140  0.90508 \n",
       "\n",
       "Coefficients:\n",
       "             Estimate Std. Error t value Pr(>|t|)    \n",
       "(Intercept) -3.422957   0.540853  -6.329 2.75e-08 ***\n",
       "M1           0.361417   0.039246   9.209 2.45e-13 ***\n",
       "Price        0.037033   0.004094   9.046 4.70e-13 ***\n",
       "---\n",
       "Signif. codes:  0 '***' 0.001 '**' 0.01 '*' 0.05 '.' 0.1 ' ' 1\n",
       "\n",
       "Residual standard error: 0.3306 on 64 degrees of freedom\n",
       "Multiple R-squared:  0.8248,\tAdjusted R-squared:  0.8193 \n",
       "F-statistic: 150.7 on 2 and 64 DF,  p-value: < 2.2e-16\n"
      ]
     },
     "metadata": {},
     "output_type": "display_data"
    }
   ],
   "source": [
    "model2 <-lm(Exports ~.,Ekonomia)\n",
    "model2\n",
    "summary(model2)"
   ]
  }
 ],
 "metadata": {
  "kernelspec": {
   "display_name": "R",
   "language": "R",
   "name": "ir"
  },
  "language_info": {
   "codemirror_mode": "r",
   "file_extension": ".r",
   "mimetype": "text/x-r-source",
   "name": "R",
   "pygments_lexer": "r",
   "version": "3.6.1"
  }
 },
 "nbformat": 4,
 "nbformat_minor": 2
}
