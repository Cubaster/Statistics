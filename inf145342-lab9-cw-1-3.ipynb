{
 "cells": [
  {
   "cell_type": "markdown",
   "metadata": {},
   "source": [
    "## Statystyka i Analiza danych\n",
    "# Laboratorium 8 - Korelacja i regresja (część 1)"
   ]
  },
  {
   "cell_type": "markdown",
   "metadata": {},
   "source": [
    "### Ćwiczenie 1: Wyznaczanie korelacji\n",
    "\n",
    "W ćwiczeniu tym sprawdzimy korelację między dwoma sygnałami. W szczególności sprawdzimy, jak zmiany w definicji oraz we wzajemnym położeniu sygnałów wpływają na wartość korelacji.\n",
    "\n",
    "Zaczniemy od przygotowania danych. Wykonaj poniższy kod, aby przygotować dane do ćwiczenia."
   ]
  },
  {
   "cell_type": "code",
   "execution_count": 1,
   "metadata": {},
   "outputs": [],
   "source": [
    "t <- seq(0,4,0.2)\n",
    "n <- length(t)\n",
    "\n",
    "prepareData <- function(x1, x2){\n",
    "  return(data.frame(t, x1, x2))\n",
    "}\n",
    "# Tworzymy różne pary sygnałów\n",
    "sygnaly_1 <- prepareData(x <- runif(n),1.5*x+runif(n)/2)\n",
    "sygnaly_2 <- prepareData(sin(t), cos(t))\n",
    "sygnaly_3 <- prepareData(runif(n), runif(n))\n",
    "sygnaly_4 <- prepareData(runif(n), 10*runif(n)-5)\n",
    "sygnaly_5 <- prepareData(x <- runif(n), c(x[n],x[1:n-1]))\n",
    "sygnaly_6 <- prepareData(sin(t), 5*sin(t))\n",
    "sygnaly_7 <- prepareData(sin(t)+rnorm(n), sin(t)+rnorm(n))\n",
    "\n",
    "# Usuwamy niepotrzebne zmienne (w tym funkcje)\n",
    "rm(n, t, x, prepareData)"
   ]
  },
  {
   "cell_type": "markdown",
   "metadata": {},
   "source": [
    "Każda ze stworzonych wcześniej ramek danych zawiera informacje o wartościach dwóch sygnałów, `x1` i `x2` w czasie `t`. Wyświetl zawartość ramki `sygnaly_1`."
   ]
  },
  {
   "cell_type": "code",
   "execution_count": 2,
   "metadata": {},
   "outputs": [
    {
     "data": {
      "text/html": [
       "<table>\n",
       "<thead><tr><th scope=col>t</th><th scope=col>x1</th><th scope=col>x2</th></tr></thead>\n",
       "<tbody>\n",
       "\t<tr><td>0.0       </td><td>0.41108232</td><td>0.7931615 </td></tr>\n",
       "\t<tr><td>0.2       </td><td>0.73826783</td><td>1.4406292 </td></tr>\n",
       "\t<tr><td>0.4       </td><td>0.08280952</td><td>0.5965393 </td></tr>\n",
       "\t<tr><td>0.6       </td><td>0.02541458</td><td>0.4521638 </td></tr>\n",
       "\t<tr><td>0.8       </td><td>0.91886342</td><td>1.4743548 </td></tr>\n",
       "\t<tr><td>1.0       </td><td>0.32290956</td><td>0.6433650 </td></tr>\n",
       "\t<tr><td>1.2       </td><td>0.95770814</td><td>1.9019407 </td></tr>\n",
       "\t<tr><td>1.4       </td><td>0.25167912</td><td>0.5360635 </td></tr>\n",
       "\t<tr><td>1.6       </td><td>0.51277643</td><td>1.1401213 </td></tr>\n",
       "\t<tr><td>1.8       </td><td>0.98485738</td><td>1.6373609 </td></tr>\n",
       "\t<tr><td>2.0       </td><td>0.94343968</td><td>1.5572750 </td></tr>\n",
       "\t<tr><td>2.2       </td><td>0.10070796</td><td>0.3648028 </td></tr>\n",
       "\t<tr><td>2.4       </td><td>0.99471083</td><td>1.6184588 </td></tr>\n",
       "\t<tr><td>2.6       </td><td>0.66443808</td><td>1.4769238 </td></tr>\n",
       "\t<tr><td>2.8       </td><td>0.55195693</td><td>1.1285197 </td></tr>\n",
       "\t<tr><td>3.0       </td><td>0.61103752</td><td>1.1307489 </td></tr>\n",
       "\t<tr><td>3.2       </td><td>0.35602144</td><td>0.6029428 </td></tr>\n",
       "\t<tr><td>3.4       </td><td>0.22672580</td><td>0.8115783 </td></tr>\n",
       "\t<tr><td>3.6       </td><td>0.11232982</td><td>0.5457398 </td></tr>\n",
       "\t<tr><td>3.8       </td><td>0.10827942</td><td>0.5111156 </td></tr>\n",
       "\t<tr><td>4.0       </td><td>0.77693873</td><td>1.1746600 </td></tr>\n",
       "</tbody>\n",
       "</table>\n"
      ],
      "text/latex": [
       "\\begin{tabular}{r|lll}\n",
       " t & x1 & x2\\\\\n",
       "\\hline\n",
       "\t 0.0        & 0.41108232 & 0.7931615 \\\\\n",
       "\t 0.2        & 0.73826783 & 1.4406292 \\\\\n",
       "\t 0.4        & 0.08280952 & 0.5965393 \\\\\n",
       "\t 0.6        & 0.02541458 & 0.4521638 \\\\\n",
       "\t 0.8        & 0.91886342 & 1.4743548 \\\\\n",
       "\t 1.0        & 0.32290956 & 0.6433650 \\\\\n",
       "\t 1.2        & 0.95770814 & 1.9019407 \\\\\n",
       "\t 1.4        & 0.25167912 & 0.5360635 \\\\\n",
       "\t 1.6        & 0.51277643 & 1.1401213 \\\\\n",
       "\t 1.8        & 0.98485738 & 1.6373609 \\\\\n",
       "\t 2.0        & 0.94343968 & 1.5572750 \\\\\n",
       "\t 2.2        & 0.10070796 & 0.3648028 \\\\\n",
       "\t 2.4        & 0.99471083 & 1.6184588 \\\\\n",
       "\t 2.6        & 0.66443808 & 1.4769238 \\\\\n",
       "\t 2.8        & 0.55195693 & 1.1285197 \\\\\n",
       "\t 3.0        & 0.61103752 & 1.1307489 \\\\\n",
       "\t 3.2        & 0.35602144 & 0.6029428 \\\\\n",
       "\t 3.4        & 0.22672580 & 0.8115783 \\\\\n",
       "\t 3.6        & 0.11232982 & 0.5457398 \\\\\n",
       "\t 3.8        & 0.10827942 & 0.5111156 \\\\\n",
       "\t 4.0        & 0.77693873 & 1.1746600 \\\\\n",
       "\\end{tabular}\n"
      ],
      "text/markdown": [
       "\n",
       "| t | x1 | x2 |\n",
       "|---|---|---|\n",
       "| 0.0        | 0.41108232 | 0.7931615  |\n",
       "| 0.2        | 0.73826783 | 1.4406292  |\n",
       "| 0.4        | 0.08280952 | 0.5965393  |\n",
       "| 0.6        | 0.02541458 | 0.4521638  |\n",
       "| 0.8        | 0.91886342 | 1.4743548  |\n",
       "| 1.0        | 0.32290956 | 0.6433650  |\n",
       "| 1.2        | 0.95770814 | 1.9019407  |\n",
       "| 1.4        | 0.25167912 | 0.5360635  |\n",
       "| 1.6        | 0.51277643 | 1.1401213  |\n",
       "| 1.8        | 0.98485738 | 1.6373609  |\n",
       "| 2.0        | 0.94343968 | 1.5572750  |\n",
       "| 2.2        | 0.10070796 | 0.3648028  |\n",
       "| 2.4        | 0.99471083 | 1.6184588  |\n",
       "| 2.6        | 0.66443808 | 1.4769238  |\n",
       "| 2.8        | 0.55195693 | 1.1285197  |\n",
       "| 3.0        | 0.61103752 | 1.1307489  |\n",
       "| 3.2        | 0.35602144 | 0.6029428  |\n",
       "| 3.4        | 0.22672580 | 0.8115783  |\n",
       "| 3.6        | 0.11232982 | 0.5457398  |\n",
       "| 3.8        | 0.10827942 | 0.5111156  |\n",
       "| 4.0        | 0.77693873 | 1.1746600  |\n",
       "\n"
      ],
      "text/plain": [
       "   t   x1         x2       \n",
       "1  0.0 0.41108232 0.7931615\n",
       "2  0.2 0.73826783 1.4406292\n",
       "3  0.4 0.08280952 0.5965393\n",
       "4  0.6 0.02541458 0.4521638\n",
       "5  0.8 0.91886342 1.4743548\n",
       "6  1.0 0.32290956 0.6433650\n",
       "7  1.2 0.95770814 1.9019407\n",
       "8  1.4 0.25167912 0.5360635\n",
       "9  1.6 0.51277643 1.1401213\n",
       "10 1.8 0.98485738 1.6373609\n",
       "11 2.0 0.94343968 1.5572750\n",
       "12 2.2 0.10070796 0.3648028\n",
       "13 2.4 0.99471083 1.6184588\n",
       "14 2.6 0.66443808 1.4769238\n",
       "15 2.8 0.55195693 1.1285197\n",
       "16 3.0 0.61103752 1.1307489\n",
       "17 3.2 0.35602144 0.6029428\n",
       "18 3.4 0.22672580 0.8115783\n",
       "19 3.6 0.11232982 0.5457398\n",
       "20 3.8 0.10827942 0.5111156\n",
       "21 4.0 0.77693873 1.1746600"
      ]
     },
     "metadata": {},
     "output_type": "display_data"
    }
   ],
   "source": [
    "sygnaly_1"
   ]
  },
  {
   "cell_type": "markdown",
   "metadata": {},
   "source": [
    "Przypisz wektory `sygnaly_1$t`, `sygnaly_1$x1` i `sygnaly_1$x2` do zmiennych `t`, `x1` i `x2`."
   ]
  },
  {
   "cell_type": "code",
   "execution_count": 3,
   "metadata": {},
   "outputs": [],
   "source": [
    "t = sygnaly_1$t\n",
    "x1 = sygnaly_1$x1\n",
    "x2 = sygnaly_1$x2"
   ]
  },
  {
   "cell_type": "markdown",
   "metadata": {},
   "source": [
    "Korzystając z funkcji `plot` wykonaj wykres rozrzutu (*scattered plot*), nazwij osie *X1* i *X2* i nadaj wykresowi tytuł *Sygnały 1*."
   ]
  },
  {
   "cell_type": "code",
   "execution_count": 6,
   "metadata": {},
   "outputs": [
    {
     "data": {
      "image/png": "[encoded data removed]",
      "text/plain": [
       "Plot with title \"Sygnaly 1\""
      ]
     },
     "metadata": {},
     "output_type": "display_data"
    }
   ],
   "source": [
    " plot(x2 ~ x1, main=\"Sygnaly 1\", xlab=\"X1\", ylab=\"X2\" ) "
   ]
  },
  {
   "cell_type": "markdown",
   "metadata": {},
   "source": [
    "Powstaje pytanie czy wartości sygnałów są ze sobą powiązane - innymi słowy czy są skorelowane? Aby to sprawdzić możemy policzyć pewien punkt odniesienia (wartość średnią) i dla każdego `t` sprawdzić, po której stronie wartości średniej znajduje się wartość sygnału. Jeżeli dla dwóch sygnałów znak będzie taki sam, to ich iloczyn będzie dodatni, w przeciwnym przypadku ujemny."
   ]
  },
  {
   "cell_type": "markdown",
   "metadata": {},
   "source": [
    "Wykonaj poniższy kod, aby zdefiniować funkcję `plotWithMeans` pozwalającą na umieszczanie na wykresie informacji o przebiegach (w czasie) i wartościach średnich sygnałów."
   ]
  },
  {
   "cell_type": "code",
   "execution_count": 7,
   "metadata": {},
   "outputs": [],
   "source": [
    "plotWithMeans <- function(t, x1, x2){\n",
    "  min <- min(x1, x2)\n",
    "  max <- max(x1,x2)\n",
    "  plot(x1 ~ t, ylim=c(min, max), type=\"o\", col=\"red\", ylab=\"value\")\n",
    "  abline(h=mean(x1), col=\"red\")\n",
    "  lines(x2 ~ t, col=\"green\",type=\"o\")\n",
    "  abline(h=mean(x2), col=\"green\")\n",
    "  legend('topright', c(\"x1\", \"x2\", \"E(x1)\", \"E(x2)\"), lty=1, col=c('red', 'green', 'red',' green'), bty='n', cex=.75)\n",
    "}"
   ]
  },
  {
   "cell_type": "markdown",
   "metadata": {},
   "source": [
    "Korzystając z funkcji `plotWithMeans` stwórz wykres wartości sygnału w zależności od czasu z naniesionymi wartościami średnimi sygnałów."
   ]
  },
  {
   "cell_type": "code",
   "execution_count": 8,
   "metadata": {},
   "outputs": [
    {
     "data": {
      "image/png": "[encoded data removed]",
      "text/plain": [
       "plot without title"
      ]
     },
     "metadata": {},
     "output_type": "display_data"
    }
   ],
   "source": [
    "plotWithMeans(t, x1, x2)"
   ]
  },
  {
   "cell_type": "markdown",
   "metadata": {},
   "source": [
    "Oblicz wartości średnie sygnałów `x1` i `x2`."
   ]
  },
  {
   "cell_type": "code",
   "execution_count": 15,
   "metadata": {},
   "outputs": [
    {
     "name": "stdout",
     "output_type": "stream",
     "text": [
      "[1] \"Średnia x1:  0.507283548525135\"\n",
      "[1] \"Średnia x2:  1.02564122139232\"\n"
     ]
    }
   ],
   "source": [
    "ex1 <- mean(x1)\n",
    "ex2 <- mean(x2)\n",
    "print(paste(\"Średnia x1: \", mean(x1)))\n",
    "print(paste(\"Średnia x2: \", mean(x2)))"
   ]
  },
  {
   "cell_type": "markdown",
   "metadata": {},
   "source": [
    "Oblicz iloczyny odchyleń wartości sygnałów od średnich `(x1-ex1)*(x2-ex2)`."
   ]
  },
  {
   "cell_type": "code",
   "execution_count": 17,
   "metadata": {},
   "outputs": [
    {
     "data": {
      "text/html": [
       "<ol class=list-inline>\n",
       "\t<li>0.0223648333024036</li>\n",
       "\t<li>0.0958556890930519</li>\n",
       "\t<li>0.182142623252704</li>\n",
       "\t<li>0.276340977981209</li>\n",
       "\t<li>0.184681496744857</li>\n",
       "\t<li>0.0704817895457397</li>\n",
       "\t<li>0.394706857710842</li>\n",
       "\t<li>0.125138242374955</li>\n",
       "\t<li>0.000628825482651123</li>\n",
       "\t<li>0.292141318941892</li>\n",
       "\t<li>0.23187533041831</li>\n",
       "\t<li>0.26868075218579</li>\n",
       "\t<li>0.28895548152299</li>\n",
       "\t<li>0.0709211023506135</li>\n",
       "\t<li>0.00459592954361548</li>\n",
       "\t<li>0.0109053442982161</li>\n",
       "\t<li>0.0639382580620738</li>\n",
       "\t<li>0.0600569994949403</li>\n",
       "\t<li>0.18953886633899</li>\n",
       "\t<li>0.205297861718211</li>\n",
       "\t<li>0.0401836799906887</li>\n",
       "</ol>\n"
      ],
      "text/latex": [
       "\\begin{enumerate*}\n",
       "\\item 0.0223648333024036\n",
       "\\item 0.0958556890930519\n",
       "\\item 0.182142623252704\n",
       "\\item 0.276340977981209\n",
       "\\item 0.184681496744857\n",
       "\\item 0.0704817895457397\n",
       "\\item 0.394706857710842\n",
       "\\item 0.125138242374955\n",
       "\\item 0.000628825482651123\n",
       "\\item 0.292141318941892\n",
       "\\item 0.23187533041831\n",
       "\\item 0.26868075218579\n",
       "\\item 0.28895548152299\n",
       "\\item 0.0709211023506135\n",
       "\\item 0.00459592954361548\n",
       "\\item 0.0109053442982161\n",
       "\\item 0.0639382580620738\n",
       "\\item 0.0600569994949403\n",
       "\\item 0.18953886633899\n",
       "\\item 0.205297861718211\n",
       "\\item 0.0401836799906887\n",
       "\\end{enumerate*}\n"
      ],
      "text/markdown": [
       "1. 0.0223648333024036\n",
       "2. 0.0958556890930519\n",
       "3. 0.182142623252704\n",
       "4. 0.276340977981209\n",
       "5. 0.184681496744857\n",
       "6. 0.0704817895457397\n",
       "7. 0.394706857710842\n",
       "8. 0.125138242374955\n",
       "9. 0.000628825482651123\n",
       "10. 0.292141318941892\n",
       "11. 0.23187533041831\n",
       "12. 0.26868075218579\n",
       "13. 0.28895548152299\n",
       "14. 0.0709211023506135\n",
       "15. 0.00459592954361548\n",
       "16. 0.0109053442982161\n",
       "17. 0.0639382580620738\n",
       "18. 0.0600569994949403\n",
       "19. 0.18953886633899\n",
       "20. 0.205297861718211\n",
       "21. 0.0401836799906887\n",
       "\n",
       "\n"
      ],
      "text/plain": [
       " [1] 0.0223648333 0.0958556891 0.1821426233 0.2763409780 0.1846814967\n",
       " [6] 0.0704817895 0.3947068577 0.1251382424 0.0006288255 0.2921413189\n",
       "[11] 0.2318753304 0.2686807522 0.2889554815 0.0709211024 0.0045959295\n",
       "[16] 0.0109053443 0.0639382581 0.0600569995 0.1895388663 0.2052978617\n",
       "[21] 0.0401836800"
      ]
     },
     "metadata": {},
     "output_type": "display_data"
    }
   ],
   "source": [
    "iloczyn_odchylen <- (x1 - ex1)*(x2 - ex2)\n",
    "iloczyn_odchylen"
   ]
  },
  {
   "cell_type": "markdown",
   "metadata": {},
   "source": [
    "Uśredniając takie iloczyny otrzymujemy kowariancję dwóch sygnałów. Oblicz kowariancję (z próby) dla `x1` i `x2`. Zweryfikuj poprawność obliczeń korzystając z wbudowanej funkcji cov."
   ]
  },
  {
   "cell_type": "code",
   "execution_count": 19,
   "metadata": {},
   "outputs": [
    {
     "data": {
      "text/html": [
       "0.153971613017737"
      ],
      "text/latex": [
       "0.153971613017737"
      ],
      "text/markdown": [
       "0.153971613017737"
      ],
      "text/plain": [
       "[1] 0.1539716"
      ]
     },
     "metadata": {},
     "output_type": "display_data"
    },
    {
     "data": {
      "text/html": [
       "0.153971613017737"
      ],
      "text/latex": [
       "0.153971613017737"
      ],
      "text/markdown": [
       "0.153971613017737"
      ],
      "text/plain": [
       "[1] 0.1539716"
      ]
     },
     "metadata": {},
     "output_type": "display_data"
    }
   ],
   "source": [
    "kowariancja <- sum(iloczyn_odchylen)/(length(iloczyn_odchylen) - 1) # wzór z pdf-a na estymowanie kowariancji z próbki\n",
    "kowariancja\n",
    "cov(x1, x2)"
   ]
  },
  {
   "cell_type": "markdown",
   "metadata": {},
   "source": [
    "Kowariancja jest zależna od wartości bezwględnych. Jej podzielenie przez iloczyn odchyleń standardowych normuje wartość współczynnika do przedziału od -1 do 1 - jest to korelacja. Oblicz wartość współczynnika korelacji $\\frac{cov(x1, x2)}{sd(x1)\\cdot sd(x2)}$."
   ]
  },
  {
   "cell_type": "code",
   "execution_count": 21,
   "metadata": {},
   "outputs": [
    {
     "data": {
      "text/html": [
       "0.956219658375444"
      ],
      "text/latex": [
       "0.956219658375444"
      ],
      "text/markdown": [
       "0.956219658375444"
      ],
      "text/plain": [
       "[1] 0.9562197"
      ]
     },
     "metadata": {},
     "output_type": "display_data"
    },
    {
     "data": {
      "text/html": [
       "0.956219658375444"
      ],
      "text/latex": [
       "0.956219658375444"
      ],
      "text/markdown": [
       "0.956219658375444"
      ],
      "text/plain": [
       "[1] 0.9562197"
      ]
     },
     "metadata": {},
     "output_type": "display_data"
    }
   ],
   "source": [
    "wspolczynnik_korelacji <- kowariancja/(sd(x1)*sd(x2))\n",
    "wspolczynnik_korelacji"
   ]
  },
  {
   "cell_type": "markdown",
   "metadata": {},
   "source": [
    "Na podstawie wykonanych wcześniej poleceń uzupełnij funkcję `analyzeCorr`, która przyjmie jako argumenty `t`, `x1`, `x2` i tytuł (`title`), stworzy wykres rozrzutu i wykres zależności sygnałów od czasu wraz z średnimi (wykresy powinny być wyświetlone obok siebie) i zwróci wartość współczynnika korelacji dla `x1` i `x2`. Do wykreślenia wykresów obok siebie możesz skorzystać z polecenia `par(mfrow=c(1,2))`."
   ]
  },
  {
   "cell_type": "code",
   "execution_count": 23,
   "metadata": {},
   "outputs": [],
   "source": [
    "analyzeCor <- function(t, x1, x2, title){\n",
    "    # Ustawiamy dwa wykresy obok siebie\n",
    "    prev  <- par(mfrow=c(1,2))\n",
    "    # 1. wykres rozrzutu \n",
    "    plot(x2 ~ x1, xlab=\"X1\", ylab=\"X2\", main=title)\n",
    "    # 2. wkres plotWithMeans\n",
    "    plotWithMeans(t, x1, x2)\n",
    "    # Przywracamy poprzednie ustawienia\n",
    "    par(prev)\n",
    "    # Wyznaczamy kowariancję i korelację, zwracamy tę ostatnią\n",
    "    ex1 <- mean(x1)\n",
    "    ex2 <- mean(x2)\n",
    "    odchylenia <- (x1 - ex1)*(x2 - ex2)\n",
    "    kowariancja <- sum(odchylenia)/(length(odchylenia) - 1)\n",
    "    korelacja <- kowariancja/(sd(x1)*sd(x2))\n",
    "    return(korelacja)\n",
    "}"
   ]
  },
  {
   "cell_type": "markdown",
   "metadata": {},
   "source": [
    "Sprawdzić działanie funkcji `analyzeCorr`."
   ]
  },
  {
   "cell_type": "code",
   "execution_count": 24,
   "metadata": {
    "scrolled": false
   },
   "outputs": [
    {
     "data": {
      "text/html": [
       "0.956219658375444"
      ],
      "text/latex": [
       "0.956219658375444"
      ],
      "text/markdown": [
       "0.956219658375444"
      ],
      "text/plain": [
       "[1] 0.9562197"
      ]
     },
     "metadata": {},
     "output_type": "display_data"
    },
    {
     "data": {
      "image/png": "[encoded data removed]",
      "text/plain": [
       "Plot with title \"sygnały 1\""
      ]
     },
     "metadata": {},
     "output_type": "display_data"
    }
   ],
   "source": [
    "cor  <- analyzeCor(t, x1, x2, \"sygnały 1\")\n",
    "cor"
   ]
  },
  {
   "cell_type": "markdown",
   "metadata": {},
   "source": [
    "Za pomocą funkcji `analyzeCor` przeanalizuj wszystkie pary sygnałów wykorzystując poniższą pętlę."
   ]
  },
  {
   "cell_type": "code",
   "execution_count": 25,
   "metadata": {},
   "outputs": [
    {
     "data": {
      "image/png": "[encoded data removed]",
      "text/plain": [
       "Plot with title \"sygnaly_1\""
      ]
     },
     "metadata": {},
     "output_type": "display_data"
    },
    {
     "data": {
      "image/png": "[encoded data removed]",
      "text/plain": [
       "Plot with title \"sygnaly_2\""
      ]
     },
     "metadata": {},
     "output_type": "display_data"
    },
    {
     "data": {
      "image/png": "[encoded data removed]",
      "text/plain": [
       "Plot with title \"sygnaly_3\""
      ]
     },
     "metadata": {},
     "output_type": "display_data"
    },
    {
     "data": {
      "image/png": "[encoded data removed]",
      "text/plain": [
       "Plot with title \"sygnaly_4\""
      ]
     },
     "metadata": {},
     "output_type": "display_data"
    },
    {
     "data": {
      "image/png": "[encoded data removed]",
      "text/plain": [
       "Plot with title \"sygnaly_5\""
      ]
     },
     "metadata": {},
     "output_type": "display_data"
    },
    {
     "data": {
      "image/png": "[encoded data removed]",
      "text/plain": [
       "Plot with title \"sygnaly_6\""
      ]
     },
     "metadata": {},
     "output_type": "display_data"
    },
    {
     "data": {
      "image/png": "[encoded data removed]",
      "text/plain": [
       "Plot with title \"sygnaly_7\""
      ]
     },
     "metadata": {},
     "output_type": "display_data"
    }
   ],
   "source": [
    "cor  <- vector(length = 7)\n",
    "names(cor)  <- paste(\"sygnaly\", 1:7, sep=\"_\")\n",
    "for (name in names(cor)){\n",
    "  signals <- eval(as.name(name))\n",
    "  cor[name] <- analyzeCor(signals$t, signals$x1, signals$x2, name)\n",
    "}"
   ]
  },
  {
   "cell_type": "markdown",
   "metadata": {},
   "source": [
    "A następnie wyświetl współczynniki korelacji dla poszczególnych par sygnałów (zmnienna `cor`)."
   ]
  },
  {
   "cell_type": "code",
   "execution_count": 26,
   "metadata": {},
   "outputs": [
    {
     "data": {
      "text/html": [
       "<dl class=dl-horizontal>\n",
       "\t<dt>sygnaly_1</dt>\n",
       "\t\t<dd>0.956219658375444</dd>\n",
       "\t<dt>sygnaly_2</dt>\n",
       "\t\t<dd>0.361263524454299</dd>\n",
       "\t<dt>sygnaly_3</dt>\n",
       "\t\t<dd>0.291593999397018</dd>\n",
       "\t<dt>sygnaly_4</dt>\n",
       "\t\t<dd>-0.151917248370548</dd>\n",
       "\t<dt>sygnaly_5</dt>\n",
       "\t\t<dd>-0.250564721643209</dd>\n",
       "\t<dt>sygnaly_6</dt>\n",
       "\t\t<dd>1</dd>\n",
       "\t<dt>sygnaly_7</dt>\n",
       "\t\t<dd>0.0999914609494515</dd>\n",
       "</dl>\n"
      ],
      "text/latex": [
       "\\begin{description*}\n",
       "\\item[sygnaly\\textbackslash{}\\_1] 0.956219658375444\n",
       "\\item[sygnaly\\textbackslash{}\\_2] 0.361263524454299\n",
       "\\item[sygnaly\\textbackslash{}\\_3] 0.291593999397018\n",
       "\\item[sygnaly\\textbackslash{}\\_4] -0.151917248370548\n",
       "\\item[sygnaly\\textbackslash{}\\_5] -0.250564721643209\n",
       "\\item[sygnaly\\textbackslash{}\\_6] 1\n",
       "\\item[sygnaly\\textbackslash{}\\_7] 0.0999914609494515\n",
       "\\end{description*}\n"
      ],
      "text/markdown": [
       "sygnaly_1\n",
       ":   0.956219658375444sygnaly_2\n",
       ":   0.361263524454299sygnaly_3\n",
       ":   0.291593999397018sygnaly_4\n",
       ":   -0.151917248370548sygnaly_5\n",
       ":   -0.250564721643209sygnaly_6\n",
       ":   1sygnaly_7\n",
       ":   0.0999914609494515\n",
       "\n"
      ],
      "text/plain": [
       "  sygnaly_1   sygnaly_2   sygnaly_3   sygnaly_4   sygnaly_5   sygnaly_6 \n",
       " 0.95621966  0.36126352  0.29159400 -0.15191725 -0.25056472  1.00000000 \n",
       "  sygnaly_7 \n",
       " 0.09999146 "
      ]
     },
     "metadata": {},
     "output_type": "display_data"
    }
   ],
   "source": [
    "cor"
   ]
  },
  {
   "cell_type": "markdown",
   "metadata": {},
   "source": [
    "Porównaj powyższe wyniki z wartościami uzykanymi za pomocą funkcji wbudowanej `cor`."
   ]
  },
  {
   "cell_type": "code",
   "execution_count": 28,
   "metadata": {},
   "outputs": [
    {
     "data": {
      "text/html": [
       "<dl class=dl-horizontal>\n",
       "\t<dt>sygnaly_1</dt>\n",
       "\t\t<dd>0.956219658375444</dd>\n",
       "\t<dt>sygnaly_2</dt>\n",
       "\t\t<dd>0.361263524454299</dd>\n",
       "\t<dt>sygnaly_3</dt>\n",
       "\t\t<dd>0.291593999397018</dd>\n",
       "\t<dt>sygnaly_4</dt>\n",
       "\t\t<dd>-0.151917248370548</dd>\n",
       "\t<dt>sygnaly_5</dt>\n",
       "\t\t<dd>-0.250564721643209</dd>\n",
       "\t<dt>sygnaly_6</dt>\n",
       "\t\t<dd>1</dd>\n",
       "\t<dt>sygnaly_7</dt>\n",
       "\t\t<dd>0.0999914609494515</dd>\n",
       "</dl>\n"
      ],
      "text/latex": [
       "\\begin{description*}\n",
       "\\item[sygnaly\\textbackslash{}\\_1] 0.956219658375444\n",
       "\\item[sygnaly\\textbackslash{}\\_2] 0.361263524454299\n",
       "\\item[sygnaly\\textbackslash{}\\_3] 0.291593999397018\n",
       "\\item[sygnaly\\textbackslash{}\\_4] -0.151917248370548\n",
       "\\item[sygnaly\\textbackslash{}\\_5] -0.250564721643209\n",
       "\\item[sygnaly\\textbackslash{}\\_6] 1\n",
       "\\item[sygnaly\\textbackslash{}\\_7] 0.0999914609494515\n",
       "\\end{description*}\n"
      ],
      "text/markdown": [
       "sygnaly_1\n",
       ":   0.956219658375444sygnaly_2\n",
       ":   0.361263524454299sygnaly_3\n",
       ":   0.291593999397018sygnaly_4\n",
       ":   -0.151917248370548sygnaly_5\n",
       ":   -0.250564721643209sygnaly_6\n",
       ":   1sygnaly_7\n",
       ":   0.0999914609494515\n",
       "\n"
      ],
      "text/plain": [
       "  sygnaly_1   sygnaly_2   sygnaly_3   sygnaly_4   sygnaly_5   sygnaly_6 \n",
       " 0.95621966  0.36126352  0.29159400 -0.15191725 -0.25056472  1.00000000 \n",
       "  sygnaly_7 \n",
       " 0.09999146 "
      ]
     },
     "metadata": {},
     "output_type": "display_data"
    }
   ],
   "source": [
    "cor  <- vector(length = 7)\n",
    "names(cor)  <- paste(\"sygnaly\", 1:7, sep=\"_\")\n",
    "for (name in names(cor)){\n",
    "  signals <- eval(as.name(name))\n",
    "  cor[name] <- cor(signals$x1, signals$x2)\n",
    "}\n",
    "cor"
   ]
  },
  {
   "cell_type": "markdown",
   "metadata": {},
   "source": [
    "### Ćwiczenie 2: Wyznaczanie współczynników modelu regresji\n",
    "\n",
    "W ćwiczeniu tym wyznaczymy współczynniki w modelu regresji stosując metodę najmnieszych kwadratów.\n",
    "\n",
    "Podobnie jak poprzednio, zaczniemy od przygotowania danych. Wykonaj poniższy kod, aby przygotować dane do ćwiczenia."
   ]
  },
  {
   "cell_type": "code",
   "execution_count": 29,
   "metadata": {},
   "outputs": [],
   "source": [
    "regresja <- read.csv(url(\"http://www.cs.put.poznan.pl/swilk/siad/8-cw2.csv\"), sep=\";\")"
   ]
  },
  {
   "cell_type": "markdown",
   "metadata": {},
   "source": [
    "Ramka zawiera trzy kolumny, `x`, `yp=f(x)`  i `y=f(x)+epsilon`. Postaramy się wyestymować parametry `a` i `b`, tak aby jak najlepiej przybliżyć wartość `y`. Pierwsze podejście będzie polegać na ręcznym dopasowaniu wartości `a^` i `b^`, tak, aby suma różnic kwadratów była jak najmniejsza. \n",
    "\n",
    "Uzupełnij definicję funkcji `plotReg`, która wykreśla `yp`, `y` oraz `y^=a^*x+b^` i zwraca wartość sumy kwadratów różnic `(y^-y)^2`."
   ]
  },
  {
   "cell_type": "code",
   "execution_count": 30,
   "metadata": {},
   "outputs": [],
   "source": [
    "plotReg <- function(reg, at, bt){\n",
    "    # Oblicz y^=a^*x+b^ (yt)\n",
    "    yt <- at*reg$x + bt\n",
    "    # Oblicz sumę (y^-y)^2:\n",
    "    suma <- sum((yt - reg$y)^2)\n",
    "  \n",
    "    plot(reg$yp ~ reg$x, t=\"l\", col=\"red\", xlab=\"x\", ylab=\"\")\n",
    "    points(reg$y ~ reg$x, col=\"blue\")\n",
    "    lines(yt ~ reg$x, t=\"l\", col=\"green\")\n",
    "  \n",
    "    # Funkcja powinna zwracać sumę kwadratów różnic:\n",
    "    return(suma)\n",
    "}"
   ]
  },
  {
   "cell_type": "markdown",
   "metadata": {},
   "source": [
    "Spróbuj dopasować wartości `a^` i `b^` korzystając ze zdefiniowanej powyżej funkcji."
   ]
  },
  {
   "cell_type": "code",
   "execution_count": 45,
   "metadata": {},
   "outputs": [
    {
     "data": {
      "text/html": [
       "27.7019344396502"
      ],
      "text/latex": [
       "27.7019344396502"
      ],
      "text/markdown": [
       "27.7019344396502"
      ],
      "text/plain": [
       "[1] 27.70193"
      ]
     },
     "metadata": {},
     "output_type": "display_data"
    },
    {
     "data": {
      "image/png": "[encoded data removed]",
      "text/plain": [
       "plot without title"
      ]
     },
     "metadata": {},
     "output_type": "display_data"
    }
   ],
   "source": [
    "plotReg(regresja, 3, 2.9) #początkowe at = 3, bt = 2.7 wartosci zmodyfikowano po otrzymaniu rezultatów z funkcji model"
   ]
  },
  {
   "cell_type": "markdown",
   "metadata": {},
   "source": [
    "Następnie wykorzystamy funkcję `lm`. Pierwszym argumentem tej metody jest `formula`, którą zdefinijemy jako `y~x`, drugim jest `data=regresja`. Otrzymany model regresji zapisz do zmiennej `model`."
   ]
  },
  {
   "cell_type": "code",
   "execution_count": 43,
   "metadata": {},
   "outputs": [
    {
     "data": {
      "text/plain": [
       "\n",
       "Call:\n",
       "lm(formula = y ~ x, data = regresja)\n",
       "\n",
       "Coefficients:\n",
       "(Intercept)            x  \n",
       "      2.913        3.001  \n"
      ]
     },
     "metadata": {},
     "output_type": "display_data"
    }
   ],
   "source": [
    "model <- lm(y~x, regresja)"
   ]
  },
  {
   "cell_type": "markdown",
   "metadata": {},
   "source": [
    "Korzystając ze zmiennej model odczytaj 'a^' i 'b^'."
   ]
  },
  {
   "cell_type": "code",
   "execution_count": 46,
   "metadata": {},
   "outputs": [
    {
     "data": {
      "text/plain": [
       "\n",
       "Call:\n",
       "lm(formula = y ~ x, data = regresja)\n",
       "\n",
       "Coefficients:\n",
       "(Intercept)            x  \n",
       "      2.913        3.001  \n"
      ]
     },
     "metadata": {},
     "output_type": "display_data"
    }
   ],
   "source": [
    "model\n",
    "# a = 3.001 (wspolczynnik przy X)\n",
    "# b = 1.913"
   ]
  },
  {
   "cell_type": "markdown",
   "metadata": {},
   "source": [
    "Obszerniejsze wyniki można uzyskać korzystając z funkcji `summary`."
   ]
  },
  {
   "cell_type": "code",
   "execution_count": 47,
   "metadata": {},
   "outputs": [
    {
     "data": {
      "text/plain": [
       "\n",
       "Call:\n",
       "lm(formula = y ~ x, data = regresja)\n",
       "\n",
       "Residuals:\n",
       "    Min      1Q  Median      3Q     Max \n",
       "-1.4594 -0.8644 -0.2456  0.7622  2.2902 \n",
       "\n",
       "Coefficients:\n",
       "            Estimate Std. Error t value Pr(>|t|)    \n",
       "(Intercept)  2.91253    0.22896   12.72 1.14e-12 ***\n",
       "x            3.00143    0.03873   77.50  < 2e-16 ***\n",
       "---\n",
       "Signif. codes:  0 '***' 0.001 '**' 0.01 '*' 0.05 '.' 0.1 ' ' 1\n",
       "\n",
       "Residual standard error: 1.032 on 26 degrees of freedom\n",
       "Multiple R-squared:  0.9957,\tAdjusted R-squared:  0.9955 \n",
       "F-statistic:  6006 on 1 and 26 DF,  p-value: < 2.2e-16\n"
      ]
     },
     "metadata": {},
     "output_type": "display_data"
    }
   ],
   "source": [
    "summary(model)"
   ]
  },
  {
   "cell_type": "markdown",
   "metadata": {},
   "source": [
    "### Ćwiczenie 3: Testowanie istotności statystycznej korelacji\n",
    "\n",
    "W tym ćwiczeniu sprawdzimy, czy korelacja między zmiennymi jest statystycznie istotna. W tym celu skorzystamy ze statystyki *t*.\n",
    "\n",
    "Zwyczajowo już zaczynamy od załadowania danych wykonyjąc poniższy kod."
   ]
  },
  {
   "cell_type": "code",
   "execution_count": 48,
   "metadata": {},
   "outputs": [],
   "source": [
    "dzieci <- read.csv(url(\"http://www.cs.put.poznan.pl/swilk/siad/8-cw3.csv\"), sep=\";\")"
   ]
  },
  {
   "cell_type": "markdown",
   "metadata": {},
   "source": [
    "Dane te zawierają informację o wieku w latach (`x`) i wzroście w cm (`y`) dla 15-osobowej grupy wylosowanej z populacji dzieci i młodzieży. Wyświetl zawartości ramki `dzieci`."
   ]
  },
  {
   "cell_type": "code",
   "execution_count": 49,
   "metadata": {},
   "outputs": [
    {
     "data": {
      "text/html": [
       "<table>\n",
       "<thead><tr><th scope=col>x</th><th scope=col>y</th></tr></thead>\n",
       "<tbody>\n",
       "\t<tr><td> 7.0</td><td>120 </td></tr>\n",
       "\t<tr><td> 8.0</td><td>122 </td></tr>\n",
       "\t<tr><td> 9.0</td><td>125 </td></tr>\n",
       "\t<tr><td>10.0</td><td>131 </td></tr>\n",
       "\t<tr><td>11.0</td><td>135 </td></tr>\n",
       "\t<tr><td>11.5</td><td>140 </td></tr>\n",
       "\t<tr><td>12.0</td><td>142 </td></tr>\n",
       "\t<tr><td>13.0</td><td>145 </td></tr>\n",
       "\t<tr><td>14.0</td><td>150 </td></tr>\n",
       "\t<tr><td>15.0</td><td>154 </td></tr>\n",
       "\t<tr><td>16.0</td><td>159 </td></tr>\n",
       "\t<tr><td>17.0</td><td>162 </td></tr>\n",
       "\t<tr><td>18.0</td><td>164 </td></tr>\n",
       "\t<tr><td>18.5</td><td>168 </td></tr>\n",
       "\t<tr><td>19.0</td><td>170 </td></tr>\n",
       "</tbody>\n",
       "</table>\n"
      ],
      "text/latex": [
       "\\begin{tabular}{r|ll}\n",
       " x & y\\\\\n",
       "\\hline\n",
       "\t  7.0 & 120 \\\\\n",
       "\t  8.0 & 122 \\\\\n",
       "\t  9.0 & 125 \\\\\n",
       "\t 10.0 & 131 \\\\\n",
       "\t 11.0 & 135 \\\\\n",
       "\t 11.5 & 140 \\\\\n",
       "\t 12.0 & 142 \\\\\n",
       "\t 13.0 & 145 \\\\\n",
       "\t 14.0 & 150 \\\\\n",
       "\t 15.0 & 154 \\\\\n",
       "\t 16.0 & 159 \\\\\n",
       "\t 17.0 & 162 \\\\\n",
       "\t 18.0 & 164 \\\\\n",
       "\t 18.5 & 168 \\\\\n",
       "\t 19.0 & 170 \\\\\n",
       "\\end{tabular}\n"
      ],
      "text/markdown": [
       "\n",
       "| x | y |\n",
       "|---|---|\n",
       "|  7.0 | 120  |\n",
       "|  8.0 | 122  |\n",
       "|  9.0 | 125  |\n",
       "| 10.0 | 131  |\n",
       "| 11.0 | 135  |\n",
       "| 11.5 | 140  |\n",
       "| 12.0 | 142  |\n",
       "| 13.0 | 145  |\n",
       "| 14.0 | 150  |\n",
       "| 15.0 | 154  |\n",
       "| 16.0 | 159  |\n",
       "| 17.0 | 162  |\n",
       "| 18.0 | 164  |\n",
       "| 18.5 | 168  |\n",
       "| 19.0 | 170  |\n",
       "\n"
      ],
      "text/plain": [
       "   x    y  \n",
       "1   7.0 120\n",
       "2   8.0 122\n",
       "3   9.0 125\n",
       "4  10.0 131\n",
       "5  11.0 135\n",
       "6  11.5 140\n",
       "7  12.0 142\n",
       "8  13.0 145\n",
       "9  14.0 150\n",
       "10 15.0 154\n",
       "11 16.0 159\n",
       "12 17.0 162\n",
       "13 18.0 164\n",
       "14 18.5 168\n",
       "15 19.0 170"
      ]
     },
     "metadata": {},
     "output_type": "display_data"
    }
   ],
   "source": [
    "dzieci"
   ]
  },
  {
   "cell_type": "markdown",
   "metadata": {},
   "source": [
    "Korzystajac z funkcji `plot` utwórz wykres rozrzutu dla tych danych. Opisz odpowiednio osie wykresu."
   ]
  },
  {
   "cell_type": "code",
   "execution_count": 51,
   "metadata": {},
   "outputs": [
    {
     "data": {
      "image/png": "[encoded data removed]",
      "text/plain": [
       "Plot with title \"zależność między wzrostem, a wiekiem dziecka\""
      ]
     },
     "metadata": {},
     "output_type": "display_data"
    }
   ],
   "source": [
    "plot(dzieci$x, dzieci$y, main=\"zależność między wzrostem, a wiekiem dziecka\", xlab=\"wiek\", ylab=\"wzrost\")"
   ]
  },
  {
   "cell_type": "markdown",
   "metadata": {},
   "source": [
    "Oblicz średnie i odchylenia standardowe obu zmiennych oraz liczbę obserwacji."
   ]
  },
  {
   "cell_type": "code",
   "execution_count": 55,
   "metadata": {},
   "outputs": [],
   "source": [
    "ewiek <- mean(dzieci$x)\n",
    "ewzrost <- mean(dzieci$y)\n",
    "odch_wiek <- sd(dzieci$x)\n",
    "odch_wzrost <-sd(dzieci$y)\n",
    "liczba <- nrow(dzieci)"
   ]
  },
  {
   "cell_type": "markdown",
   "metadata": {},
   "source": [
    "Oblicz samodzielnie współczynnik korelacji korzystając ze wzoru $\\frac{cov(x, y)}{sd(x) \\cdot sd(y)}$."
   ]
  },
  {
   "cell_type": "code",
   "execution_count": 58,
   "metadata": {},
   "outputs": [
    {
     "data": {
      "text/html": [
       "0.996842404739118"
      ],
      "text/latex": [
       "0.996842404739118"
      ],
      "text/markdown": [
       "0.996842404739118"
      ],
      "text/plain": [
       "[1] 0.9968424"
      ]
     },
     "metadata": {},
     "output_type": "display_data"
    }
   ],
   "source": [
    "kowariancja_dzieci <- sum((dzieci$x - ewiek)*(dzieci$y - ewzrost))/(liczba -1)\n",
    "korelacja_dzieci <- kowariancja_dzieci/(odch_wiek*odch_wzrost)\n",
    "korelacja_dzieci"
   ]
  },
  {
   "cell_type": "markdown",
   "metadata": {},
   "source": [
    "Oblicz także współczynnik korelacji korzystając z funkcji `cor`."
   ]
  },
  {
   "cell_type": "code",
   "execution_count": 59,
   "metadata": {},
   "outputs": [
    {
     "data": {
      "text/html": [
       "0.996842404739118"
      ],
      "text/latex": [
       "0.996842404739118"
      ],
      "text/markdown": [
       "0.996842404739118"
      ],
      "text/plain": [
       "[1] 0.9968424"
      ]
     },
     "metadata": {},
     "output_type": "display_data"
    }
   ],
   "source": [
    "cor(dzieci$x, dzieci$y)"
   ]
  },
  {
   "cell_type": "markdown",
   "metadata": {},
   "source": [
    "Aby zweryfikować hipotezę mówiącą, że współczynnik korelacji jest niezerowy (test dwustronny), oblicz wartość statystyki $t=\\frac{r}{\\sqrt{1-r^2}}\\cdot \\sqrt{n-2}$, gdzie $r$ to współczynnik korelacji dla próby."
   ]
  },
  {
   "cell_type": "code",
   "execution_count": 61,
   "metadata": {},
   "outputs": [
    {
     "data": {
      "text/html": [
       "45.2634918134611"
      ],
      "text/latex": [
       "45.2634918134611"
      ],
      "text/markdown": [
       "45.2634918134611"
      ],
      "text/plain": [
       "[1] 45.26349"
      ]
     },
     "metadata": {},
     "output_type": "display_data"
    }
   ],
   "source": [
    "test_t <- korelacja_dzieci/sqrt(1- korelacja_dzieci^2) * sqrt(liczba - 2)\n",
    "test_t"
   ]
  },
  {
   "cell_type": "markdown",
   "metadata": {},
   "source": [
    "Oblicz p-wartość dla wyznaczonej statystyki pamiętając, że mamy do czynienia z testem dwustronnym. Jaki będzie wynik testowania hipotez (zakładając poziom istotności równy 0.05)?"
   ]
  },
  {
   "cell_type": "code",
   "execution_count": 63,
   "metadata": {},
   "outputs": [
    {
     "data": {
      "text/html": [
       "1.08609130443034e-15"
      ],
      "text/latex": [
       "1.08609130443034e-15"
      ],
      "text/markdown": [
       "1.08609130443034e-15"
      ],
      "text/plain": [
       "[1] 1.086091e-15"
      ]
     },
     "metadata": {},
     "output_type": "display_data"
    },
    {
     "data": {
      "text/plain": [
       "\n",
       "\tPearson's product-moment correlation\n",
       "\n",
       "data:  dzieci$x and dzieci$y\n",
       "t = 45.263, df = 13, p-value = 1.086e-15\n",
       "alternative hypothesis: true correlation is not equal to 0\n",
       "95 percent confidence interval:\n",
       " 0.9902420 0.9989805\n",
       "sample estimates:\n",
       "      cor \n",
       "0.9968424 \n"
      ]
     },
     "metadata": {},
     "output_type": "display_data"
    }
   ],
   "source": [
    "2*pt(test_t, lower.tail = FALSE, df=liczba-2)\n",
    "cor.test(dzieci$x, dzieci$y)"
   ]
  },
  {
   "cell_type": "markdown",
   "metadata": {},
   "source": [
    "Wyznacz model regresji korzystając z funkcji `lm`."
   ]
  },
  {
   "cell_type": "code",
   "execution_count": 64,
   "metadata": {},
   "outputs": [
    {
     "data": {
      "text/plain": [
       "\n",
       "Call:\n",
       "lm(formula = y ~ x, data = dzieci)\n",
       "\n",
       "Coefficients:\n",
       "(Intercept)            x  \n",
       "     88.689        4.305  \n"
      ]
     },
     "metadata": {},
     "output_type": "display_data"
    }
   ],
   "source": [
    "model_dzieci <- lm(y ~ x, data = dzieci)\n",
    "model_dzieci"
   ]
  },
  {
   "cell_type": "markdown",
   "metadata": {},
   "source": [
    "Utwórz wykres modelu regresji korzystając z funkcji `abline` (wcześniej narysuj ponownie wykres rozrzutu). W jakich warunkach uzyskany model może mieć zastosowanie?"
   ]
  },
  {
   "cell_type": "code",
   "execution_count": 69,
   "metadata": {},
   "outputs": [
    {
     "data": {
      "image/png": "[encoded data removed]",
      "text/plain": [
       "Plot with title \"zależność między wzrostem, a wiekiem dziecka\""
      ]
     },
     "metadata": {},
     "output_type": "display_data"
    }
   ],
   "source": [
    "plot(dzieci$x, dzieci$y, main=\"zależność między wzrostem, a wiekiem dziecka\", xlab=\"wiek\", ylab=\"wzrost\")\n",
    "abline(model_dzieci, col=\"green\")"
   ]
  }
 ],
 "metadata": {
  "kernelspec": {
   "display_name": "R",
   "language": "R",
   "name": "ir"
  },
  "language_info": {
   "codemirror_mode": "r",
   "file_extension": ".r",
   "mimetype": "text/x-r-source",
   "name": "R",
   "pygments_lexer": "r",
   "version": "3.6.1"
  }
 },
 "nbformat": 4,
 "nbformat_minor": 2
}
