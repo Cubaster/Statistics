{
 "cells": [
  {
   "cell_type": "markdown",
   "metadata": {},
   "source": [
    "## Statystyka i Analiza danych\n",
    "# Laboratorium 3 - Rozkłady prawdopodobieństwa\n",
    "\n",
    "### Ćwiczenie 1: Rozkład normalny\n",
    "\n",
    "Zapoznaj się z funkcjami R dotyczącymi rozkładu normalnego:\n",
    "```\n",
    "dnorm\n",
    "pnorm\n",
    "qnorm\n",
    "rnorm\n",
    "```"
   ]
  },
  {
   "cell_type": "code",
   "execution_count": 1,
   "metadata": {},
   "outputs": [],
   "source": [
    "?dnorm"
   ]
  },
  {
   "cell_type": "markdown",
   "metadata": {},
   "source": [
    "Zaimplementuj funkcję gęstości rozkładu normalnego i porównaj wynik z funkcją `dnorm`"
   ]
  },
  {
   "cell_type": "code",
   "execution_count": 3,
   "metadata": {
    "scrolled": false
   },
   "outputs": [
    {
     "data": {
      "image/png": "[encoded data removed]",
      "text/plain": [
       "plot without title"
      ]
     },
     "metadata": {},
     "output_type": "display_data"
    }
   ],
   "source": [
    "gestosc <- function(x, mean=0, sd=1) {\n",
    "    gestosc <- (1/(sd * sqrt(2 * pi))) * exp(-((x-mean)^2)/(2*sd^2))\n",
    "}\n",
    "\n",
    "\n",
    "#### sprawdzenie wyniku w postaci wykresu ####\n",
    "mean <- 0; sd <- 1\n",
    "x <- -50:50/10   # x = -5, -4.9, ..., 4.9, 5\n",
    "plot(x, dnorm(x, mean, sd), col=\"red\", pch=20)  # wykres punktowy dnorm\n",
    "lines(x, gestosc(x, mean, sd), col=\"blue\") # dodaj wykres gestosci jako linię"
   ]
  },
  {
   "cell_type": "markdown",
   "metadata": {},
   "source": [
    "Spróbuj numerycznie zcałkować gęstość rozkładu (metodą prostokątów) aby uzyskać wartość dystrybuanty, a następnie porównaj wynik z funkcją `pnorm`:"
   ]
  },
  {
   "cell_type": "code",
   "execution_count": 6,
   "metadata": {},
   "outputs": [
    {
     "data": {
      "image/png": "[encoded data removed]",
      "text/plain": [
       "plot without title"
      ]
     },
     "metadata": {},
     "output_type": "display_data"
    }
   ],
   "source": [
    "mean <- 0; sd <- 1\n",
    "\n",
    "delta = 0.01\n",
    "z <- -2000:2000*delta   # z od -20 do 20 co 0.01\n",
    "\n",
    "# całkuj numerycznie funkcję gęstości; możesz użyć funkcji cumsum\n",
    "dystrybuanta <- cumsum(delta * gestosc(z,mean,sd))\n",
    "\n",
    "\n",
    "#### sprawdzenie wyniku w postaci wykresu ####\n",
    "x <- -50:50/10\n",
    "plot(x, pnorm(x, mean, sd), col=\"red\", pch=20)  # wykres punktowy pnorm\n",
    "lines(z, dystrybuanta, col=\"blue\") # dodaj wykresu dystrybuanty jako linię"
   ]
  },
  {
   "cell_type": "markdown",
   "metadata": {},
   "source": [
    "### Ćwiczenie 2: Wstęp do metody Monte Carlo\n",
    "\n",
    "Metoda Monte Carlo, wymyślona przez Stanisława Ulama, służy do przybliżania wartości różnych całek (np. pola powierzchni figury, pola pod wykresem funkcji/rozkładu) poprzez wielokrotne losowanie liczb z odpowiedniego rozkładu prawdopodobieństwa.\n",
    "\n",
    "Zaczniemy od próby oszacowania metodą Monte Carlo pola powierzchni koła o promieniu 1, wpisanego w kwadrat o bokach [-1,1]. W tym utwórz funkcję, która losuje n par liczb x i y z rozkładu jednostajnego na odcinku [-1,1], a następnie zlicza, jaka część z nich trafiła w koło i na postawie tego szacuje pole koła."
   ]
  },
  {
   "cell_type": "code",
   "execution_count": 13,
   "metadata": {},
   "outputs": [],
   "source": [
    "poleMC <- function(n) {\n",
    "    x <- runif(n, min=-1, max=1)\n",
    "    y <- runif(n, min=-1, max=1)\n",
    "\n",
    "   4 * mean((x^2 + y^2) <= 1)\n",
    "}\n"
   ]
  },
  {
   "cell_type": "markdown",
   "metadata": {},
   "source": [
    "Porównaj wyniki funkcji `poleMC` z wartością pola figury obliczonej za pomocą wzoru dla różnych wartości `n`"
   ]
  },
  {
   "cell_type": "code",
   "execution_count": 37,
   "metadata": {},
   "outputs": [
    {
     "data": {
      "text/html": [
       "3.14159265358979"
      ],
      "text/latex": [
       "3.14159265358979"
      ],
      "text/markdown": [
       "3.14159265358979"
      ],
      "text/plain": [
       "[1] 3.141593"
      ]
     },
     "metadata": {},
     "output_type": "display_data"
    },
    {
     "data": {
      "text/html": [
       "3.228"
      ],
      "text/latex": [
       "3.228"
      ],
      "text/markdown": [
       "3.228"
      ],
      "text/plain": [
       "[1] 3.228"
      ]
     },
     "metadata": {},
     "output_type": "display_data"
    },
    {
     "data": {
      "text/html": [
       "3.1448"
      ],
      "text/latex": [
       "3.1448"
      ],
      "text/markdown": [
       "3.1448"
      ],
      "text/plain": [
       "[1] 3.1448"
      ]
     },
     "metadata": {},
     "output_type": "display_data"
    },
    {
     "data": {
      "text/html": [
       "3.13256"
      ],
      "text/latex": [
       "3.13256"
      ],
      "text/markdown": [
       "3.13256"
      ],
      "text/plain": [
       "[1] 3.13256"
      ]
     },
     "metadata": {},
     "output_type": "display_data"
    },
    {
     "data": {
      "text/html": [
       "3.141556"
      ],
      "text/latex": [
       "3.141556"
      ],
      "text/markdown": [
       "3.141556"
      ],
      "text/plain": [
       "[1] 3.141556"
      ]
     },
     "metadata": {},
     "output_type": "display_data"
    }
   ],
   "source": [
    "kolo <- pi\n",
    "kolo\n",
    "poleMC(1000)\n",
    "poleMC(10000)\n",
    "poleMC(100000)\n",
    "poleMC(1000000)"
   ]
  },
  {
   "cell_type": "markdown",
   "metadata": {},
   "source": [
    "### Ćwiczenie 3: Metoda Monte Carlo dla rozkładu normalnego\n",
    "\n",
    "Rozpoczniemy od napisania funkcji, która generuje liczby losowe z rozkładu normalnego mając do dyspozycji tylko funkcję `runif` (do losowania z rozkładu jednostajnego). Możesz użyć funkcji `qnorm`."
   ]
  },
  {
   "cell_type": "code",
   "execution_count": 38,
   "metadata": {},
   "outputs": [],
   "source": [
    "losowe <- function(n, mean=0, sd=1) {\n",
    "    x <- runif(n)\n",
    "    qnorm(x,mean,sd)\n",
    "}"
   ]
  },
  {
   "cell_type": "markdown",
   "metadata": {},
   "source": [
    "Następnie przetestujemy funkcję poprzez utworzenie histogramu wylosowanych wartości i porównanie z prawdziwą gęstością rozkładu oraz funkcją R `rnorm`."
   ]
  },
  {
   "cell_type": "code",
   "execution_count": 39,
   "metadata": {
    "scrolled": false
   },
   "outputs": [
    {
     "data": {
      "image/png": "[encoded data removed]",
      "text/plain": [
       "Plot with title \"Funkcja rnorm\""
      ]
     },
     "metadata": {},
     "output_type": "display_data"
    }
   ],
   "source": [
    "mean <- 0; sd <- 1\n",
    "n <- 100000\n",
    "\n",
    "par(mfrow=c(2,1)) \n",
    "\n",
    "hist(losowe(n, mean, sd), prob=TRUE, main=\"Funkcja losowe\")\n",
    "curve(dnorm(x, mean, sd), add=TRUE, col=\"blue\")\n",
    "\n",
    "hist(rnorm(n), prob=TRUE, main=\"Funkcja rnorm\")\n",
    "curve(dnorm(x, mean, sd), add=TRUE, col=\"blue\")"
   ]
  },
  {
   "cell_type": "markdown",
   "metadata": {},
   "source": [
    "Napiszemy teraz funkcję szacującą wartość dystrybuanty rozkładu normalnego metodą Monte Carlo:"
   ]
  },
  {
   "cell_type": "code",
   "execution_count": 43,
   "metadata": {},
   "outputs": [],
   "source": [
    "dystrybuantaMC <- function(x, mean=0, sd=1, n=10000) {\n",
    "    mean(rnorm(n,mean,sd) <= x)\n",
    "}\n"
   ]
  },
  {
   "cell_type": "markdown",
   "metadata": {},
   "source": [
    "Porównaj wartości funkcji `dystrybuantaMC` z wartościami zwracanymi przez funkcję `pnorm` dla kilku wartości x"
   ]
  },
  {
   "cell_type": "code",
   "execution_count": 45,
   "metadata": {},
   "outputs": [
    {
     "data": {
      "text/html": [
       "0.69317"
      ],
      "text/latex": [
       "0.69317"
      ],
      "text/markdown": [
       "0.69317"
      ],
      "text/plain": [
       "[1] 0.69317"
      ]
     },
     "metadata": {},
     "output_type": "display_data"
    },
    {
     "data": {
      "text/html": [
       "0.691462461274013"
      ],
      "text/latex": [
       "0.691462461274013"
      ],
      "text/markdown": [
       "0.691462461274013"
      ],
      "text/plain": [
       "[1] 0.6914625"
      ]
     },
     "metadata": {},
     "output_type": "display_data"
    },
    {
     "data": {
      "text/html": [
       "0.59895"
      ],
      "text/latex": [
       "0.59895"
      ],
      "text/markdown": [
       "0.59895"
      ],
      "text/plain": [
       "[1] 0.59895"
      ]
     },
     "metadata": {},
     "output_type": "display_data"
    },
    {
     "data": {
      "text/html": [
       "0.598706325682924"
      ],
      "text/latex": [
       "0.598706325682924"
      ],
      "text/markdown": [
       "0.598706325682924"
      ],
      "text/plain": [
       "[1] 0.5987063"
      ]
     },
     "metadata": {},
     "output_type": "display_data"
    },
    {
     "data": {
      "text/html": [
       "0.77464"
      ],
      "text/latex": [
       "0.77464"
      ],
      "text/markdown": [
       "0.77464"
      ],
      "text/plain": [
       "[1] 0.77464"
      ]
     },
     "metadata": {},
     "output_type": "display_data"
    },
    {
     "data": {
      "text/html": [
       "0.773372647623132"
      ],
      "text/latex": [
       "0.773372647623132"
      ],
      "text/markdown": [
       "0.773372647623132"
      ],
      "text/plain": [
       "[1] 0.7733726"
      ]
     },
     "metadata": {},
     "output_type": "display_data"
    },
    {
     "data": {
      "text/html": [
       "0.61885"
      ],
      "text/latex": [
       "0.61885"
      ],
      "text/markdown": [
       "0.61885"
      ],
      "text/plain": [
       "[1] 0.61885"
      ]
     },
     "metadata": {},
     "output_type": "display_data"
    },
    {
     "data": {
      "text/html": [
       "0.617911422188953"
      ],
      "text/latex": [
       "0.617911422188953"
      ],
      "text/markdown": [
       "0.617911422188953"
      ],
      "text/plain": [
       "[1] 0.6179114"
      ]
     },
     "metadata": {},
     "output_type": "display_data"
    }
   ],
   "source": [
    "x <- 0.5\n",
    "dystrybuantaMC(x, n=100000)\n",
    "pnorm(x)\n",
    "x <- 0.25\n",
    "dystrybuantaMC(x, n=100000)\n",
    "pnorm(x)\n",
    "x <- 0.75\n",
    "dystrybuantaMC(x, n=100000)\n",
    "pnorm(x)\n",
    "x <- 0.3\n",
    "dystrybuantaMC(x, n=100000)\n",
    "pnorm(x)"
   ]
  },
  {
   "cell_type": "markdown",
   "metadata": {},
   "source": [
    "### Ćwiczenie 4: Centralne Twierdzenie Graniczne\n",
    "\n",
    "W celu pogłębienia intuicji dotyczącej Centralnego Twierdzenia Granicznego (CTW), będziemy badać jak zmienia się rozkład sum zmiennych losowych o rozkładzie:\n",
    "\n",
    "  - dwupunktowym z parametrem *p=0.5*,\n",
    "  - jednostajnym na [0,1],\n",
    "  - normalnym (funkcja `rnorm`).\n",
    "  \n",
    "W tym celu należy utworzyć funkcje, które zwracają `N` losowych sum, każda składająca się z `n` elementów. Można to zrobić poprzez utworzenie losowej macierzy `N` na `n`, a następnie zsumowanie wierszy (funkcja `rowSums')."
   ]
  },
  {
   "cell_type": "code",
   "execution_count": 51,
   "metadata": {},
   "outputs": [],
   "source": [
    "sumyDwupunktowy <- function(n, N=100000) {\n",
    "    rowSums(matrix(rbinom(n*N, 1, 0.5), N, n)) \n",
    "}\n",
    "\n",
    "sumyJednostajny <- function(n, N=100000) {\n",
    "    rowSums(matrix(runif(n*N), N, n)) \n",
    "}\n",
    "\n",
    "sumyNormalny <- function(n, N=100000) {\n",
    "    rowSums(matrix(rnorm(n*N), N, n))\n",
    "}"
   ]
  },
  {
   "cell_type": "markdown",
   "metadata": {},
   "source": [
    "Utwórz wykresy słupkowe dla sum zmiennych o rozkładzie dwupunktowym, dla *n = 5, 10, 20, 50*:"
   ]
  },
  {
   "cell_type": "code",
   "execution_count": 52,
   "metadata": {},
   "outputs": [
    {
     "data": {
      "image/png": "[encoded data removed]",
      "text/plain": [
       "Plot with title \"Dwupunktowy, n = 50\""
      ]
     },
     "metadata": {},
     "output_type": "display_data"
    }
   ],
   "source": [
    "par(mfrow=c(2,2))\n",
    "for (n in c(5, 10, 20, 50)) {\n",
    "    barplot(table(sumyDwupunktowy(n)), main=paste(\"Dwupunktowy, n =\", n))\n",
    "}"
   ]
  },
  {
   "cell_type": "markdown",
   "metadata": {},
   "source": [
    "Podobnie, utwórz histogramy dla sum losowych z rozkładu jednostajnego dla *n = 1, 2, 3, 5, 10, 50*. Można dodać krzywą gęstości rozkładu normalnego za pomocą komendy `curve` (**uwaga**: trzeba odpowiednio dobrać wartość oczekiwaną i wariancję!)."
   ]
  },
  {
   "cell_type": "code",
   "execution_count": 56,
   "metadata": {
    "scrolled": true
   },
   "outputs": [
    {
     "data": {
      "image/png": "[encoded data removed]",
      "text/plain": [
       "Plot with title \"Jednostajny, n = 50\""
      ]
     },
     "metadata": {},
     "output_type": "display_data"
    }
   ],
   "source": [
    "par(mfrow=c(3,2))\n",
    "for (n in c(1, 2, 3, 5, 10, 50)) {\n",
    "    hist(sumyJednostajny(n), prob=TRUE, main=paste(\"Jednostajny, n =\", n))\n",
    "    curve(dnorm(x,(0 + n)/2,sqrt((0 + n)/12)), add=TRUE, col=\"red\")\n",
    "}"
   ]
  },
  {
   "cell_type": "markdown",
   "metadata": {},
   "source": [
    "Na koniec, utwórz podobne wykresy dla zmiennych o rozkładzie normalnym."
   ]
  },
  {
   "cell_type": "code",
   "execution_count": 57,
   "metadata": {
    "scrolled": true
   },
   "outputs": [
    {
     "data": {
      "image/png": "[encoded data removed]",
      "text/plain": [
       "Plot with title \"Normalny, n = 50\""
      ]
     },
     "metadata": {},
     "output_type": "display_data"
    }
   ],
   "source": [
    "par(mfrow=c(3,2))\n",
    "for (n in c(1, 2, 3, 5, 10, 50)) {\n",
    "    hist(sumyNormalny(n), prob=TRUE, main=paste(\"Normalny, n =\", n))\n",
    "    curve(dnorm(x, 0 ,sqrt(n)), add=TRUE, col=\"red\")\n",
    "}"
   ]
  }
 ],
 "metadata": {
  "kernelspec": {
   "display_name": "R",
   "language": "R",
   "name": "ir"
  },
  "language_info": {
   "codemirror_mode": "r",
   "file_extension": ".r",
   "mimetype": "text/x-r-source",
   "name": "R",
   "pygments_lexer": "r",
   "version": "3.6.1"
  }
 },
 "nbformat": 4,
 "nbformat_minor": 2
}
