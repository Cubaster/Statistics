{
 "cells": [
  {
   "cell_type": "markdown",
   "metadata": {},
   "source": [
    "## Statystyka i Analiza danych\n",
    "# Laboratorium 2 - Statystyka opisowa\n",
    "\n",
    "### Powtórka\n",
    "Stwórz wektor `dane` zawierający następujące liczby\n",
    "```\n",
    "1123, 198, 473, 784, 305, 423, 397, 298, 698, 237\n",
    "```"
   ]
  },
  {
   "cell_type": "code",
   "execution_count": 2,
   "metadata": {},
   "outputs": [],
   "source": [
    "dane <- c(1123, 198, 473, 784, 305, 423, 397, 298, 698, 237)"
   ]
  },
  {
   "cell_type": "markdown",
   "metadata": {},
   "source": [
    "Następnie wypisz liczby z tego wektora przemnożone przez 2"
   ]
  },
  {
   "cell_type": "code",
   "execution_count": 3,
   "metadata": {},
   "outputs": [
    {
     "data": {
      "text/html": [
       "<ol class=list-inline>\n",
       "\t<li>2246</li>\n",
       "\t<li>396</li>\n",
       "\t<li>946</li>\n",
       "\t<li>1568</li>\n",
       "\t<li>610</li>\n",
       "\t<li>846</li>\n",
       "\t<li>794</li>\n",
       "\t<li>596</li>\n",
       "\t<li>1396</li>\n",
       "\t<li>474</li>\n",
       "</ol>\n"
      ],
      "text/latex": [
       "\\begin{enumerate*}\n",
       "\\item 2246\n",
       "\\item 396\n",
       "\\item 946\n",
       "\\item 1568\n",
       "\\item 610\n",
       "\\item 846\n",
       "\\item 794\n",
       "\\item 596\n",
       "\\item 1396\n",
       "\\item 474\n",
       "\\end{enumerate*}\n"
      ],
      "text/markdown": [
       "1. 2246\n",
       "2. 396\n",
       "3. 946\n",
       "4. 1568\n",
       "5. 610\n",
       "6. 846\n",
       "7. 794\n",
       "8. 596\n",
       "9. 1396\n",
       "10. 474\n",
       "\n",
       "\n"
      ],
      "text/plain": [
       " [1] 2246  396  946 1568  610  846  794  596 1396  474"
      ]
     },
     "metadata": {},
     "output_type": "display_data"
    }
   ],
   "source": [
    "dane * 2"
   ]
  },
  {
   "cell_type": "markdown",
   "metadata": {},
   "source": [
    "Przekonwertuj podane temperatury w Fahrenheitach na stopnie Celsjusza\n",
    "`fahrenheit<-c(32, 59, 86)`. Wzór na konwersję masz podany poniżej.\n",
    "$$c = \\frac{(f-32)\\cdot 5}{9}$$"
   ]
  },
  {
   "cell_type": "code",
   "execution_count": 5,
   "metadata": {},
   "outputs": [
    {
     "data": {
      "text/html": [
       "<ol class=list-inline>\n",
       "\t<li>0</li>\n",
       "\t<li>15</li>\n",
       "\t<li>30</li>\n",
       "</ol>\n"
      ],
      "text/latex": [
       "\\begin{enumerate*}\n",
       "\\item 0\n",
       "\\item 15\n",
       "\\item 30\n",
       "\\end{enumerate*}\n"
      ],
      "text/markdown": [
       "1. 0\n",
       "2. 15\n",
       "3. 30\n",
       "\n",
       "\n"
      ],
      "text/plain": [
       "[1]  0 15 30"
      ]
     },
     "metadata": {},
     "output_type": "display_data"
    }
   ],
   "source": [
    "fahrenheit<-c(32, 59, 86)\n",
    "celsius <- (fahrenheit - 32) * 5 / 9\n",
    "celsius"
   ]
  },
  {
   "cell_type": "markdown",
   "metadata": {},
   "source": [
    "Wypisz:\n",
    " - piąty element wektora `dane`"
   ]
  },
  {
   "cell_type": "code",
   "execution_count": 6,
   "metadata": {},
   "outputs": [
    {
     "data": {
      "text/html": [
       "305"
      ],
      "text/latex": [
       "305"
      ],
      "text/markdown": [
       "305"
      ],
      "text/plain": [
       "[1] 305"
      ]
     },
     "metadata": {},
     "output_type": "display_data"
    }
   ],
   "source": [
    "dane[5]"
   ]
  },
  {
   "cell_type": "markdown",
   "metadata": {},
   "source": [
    " - pierwszy i piąty element wektora `dane` (razem!)"
   ]
  },
  {
   "cell_type": "code",
   "execution_count": 10,
   "metadata": {},
   "outputs": [
    {
     "data": {
      "text/html": [
       "<ol class=list-inline>\n",
       "\t<li>1123</li>\n",
       "\t<li>305</li>\n",
       "</ol>\n"
      ],
      "text/latex": [
       "\\begin{enumerate*}\n",
       "\\item 1123\n",
       "\\item 305\n",
       "\\end{enumerate*}\n"
      ],
      "text/markdown": [
       "1. 1123\n",
       "2. 305\n",
       "\n",
       "\n"
      ],
      "text/plain": [
       "[1] 1123  305"
      ]
     },
     "metadata": {},
     "output_type": "display_data"
    }
   ],
   "source": [
    "dane[c(1,5)]"
   ]
  },
  {
   "cell_type": "markdown",
   "metadata": {},
   "source": [
    "###  Ćwiczenie 1\n",
    "Porównaj medianę i średnią dla liczby punktów zdobytych przez zawodników drużyny A i drużyny B -- jakie wnioski możesz wysnuć na podstawie tych danych?"
   ]
  },
  {
   "cell_type": "code",
   "execution_count": 11,
   "metadata": {},
   "outputs": [],
   "source": [
    "team_a <- c(8,5,4,38,10,5,2,0)\n",
    "names(team_a) <- c('Andrzej U.', 'Artur M.', 'Grzegorz W.', 'Jan W.', 'Marek M.', 'Mikołaj S.', 'Rafal R.', 'Stefan G.')\n",
    "\n",
    "team_b <- c(12, 15, 18, 8, 0, 2, 10, 23)\n",
    "names(team_b) <- c('Andrzej J.', 'Jacek J.', 'Jerzy S.', 'Krzysztof K.', 'Maciej H.', 'Maciej K.', 'Pawel K.', 'Roman S.')"
   ]
  },
  {
   "cell_type": "markdown",
   "metadata": {},
   "source": [
    "Wypisz wartość wektorów `team_a` i `team_b`"
   ]
  },
  {
   "cell_type": "code",
   "execution_count": 12,
   "metadata": {
    "scrolled": true
   },
   "outputs": [
    {
     "data": {
      "text/html": [
       "<dl class=dl-horizontal>\n",
       "\t<dt>Andrzej U.</dt>\n",
       "\t\t<dd>8</dd>\n",
       "\t<dt>Artur M.</dt>\n",
       "\t\t<dd>5</dd>\n",
       "\t<dt>Grzegorz W.</dt>\n",
       "\t\t<dd>4</dd>\n",
       "\t<dt>Jan W.</dt>\n",
       "\t\t<dd>38</dd>\n",
       "\t<dt>Marek M.</dt>\n",
       "\t\t<dd>10</dd>\n",
       "\t<dt>Mikołaj S.</dt>\n",
       "\t\t<dd>5</dd>\n",
       "\t<dt>Rafal R.</dt>\n",
       "\t\t<dd>2</dd>\n",
       "\t<dt>Stefan G.</dt>\n",
       "\t\t<dd>0</dd>\n",
       "</dl>\n"
      ],
      "text/latex": [
       "\\begin{description*}\n",
       "\\item[Andrzej U.] 8\n",
       "\\item[Artur M.] 5\n",
       "\\item[Grzegorz W.] 4\n",
       "\\item[Jan W.] 38\n",
       "\\item[Marek M.] 10\n",
       "\\item[Mikołaj S.] 5\n",
       "\\item[Rafal R.] 2\n",
       "\\item[Stefan G.] 0\n",
       "\\end{description*}\n"
      ],
      "text/markdown": [
       "Andrzej U.\n",
       ":   8Artur M.\n",
       ":   5Grzegorz W.\n",
       ":   4Jan W.\n",
       ":   38Marek M.\n",
       ":   10Mikołaj S.\n",
       ":   5Rafal R.\n",
       ":   2Stefan G.\n",
       ":   0\n",
       "\n"
      ],
      "text/plain": [
       " Andrzej U.    Artur M. Grzegorz W.      Jan W.    Marek M.  Mikołaj S. \n",
       "          8           5           4          38          10           5 \n",
       "   Rafal R.   Stefan G. \n",
       "          2           0 "
      ]
     },
     "metadata": {},
     "output_type": "display_data"
    },
    {
     "data": {
      "text/html": [
       "<dl class=dl-horizontal>\n",
       "\t<dt>Andrzej J.</dt>\n",
       "\t\t<dd>12</dd>\n",
       "\t<dt>Jacek J.</dt>\n",
       "\t\t<dd>15</dd>\n",
       "\t<dt>Jerzy S.</dt>\n",
       "\t\t<dd>18</dd>\n",
       "\t<dt>Krzysztof K.</dt>\n",
       "\t\t<dd>8</dd>\n",
       "\t<dt>Maciej H.</dt>\n",
       "\t\t<dd>0</dd>\n",
       "\t<dt>Maciej K.</dt>\n",
       "\t\t<dd>2</dd>\n",
       "\t<dt>Pawel K.</dt>\n",
       "\t\t<dd>10</dd>\n",
       "\t<dt>Roman S.</dt>\n",
       "\t\t<dd>23</dd>\n",
       "</dl>\n"
      ],
      "text/latex": [
       "\\begin{description*}\n",
       "\\item[Andrzej J.] 12\n",
       "\\item[Jacek J.] 15\n",
       "\\item[Jerzy S.] 18\n",
       "\\item[Krzysztof K.] 8\n",
       "\\item[Maciej H.] 0\n",
       "\\item[Maciej K.] 2\n",
       "\\item[Pawel K.] 10\n",
       "\\item[Roman S.] 23\n",
       "\\end{description*}\n"
      ],
      "text/markdown": [
       "Andrzej J.\n",
       ":   12Jacek J.\n",
       ":   15Jerzy S.\n",
       ":   18Krzysztof K.\n",
       ":   8Maciej H.\n",
       ":   0Maciej K.\n",
       ":   2Pawel K.\n",
       ":   10Roman S.\n",
       ":   23\n",
       "\n"
      ],
      "text/plain": [
       "  Andrzej J.     Jacek J.     Jerzy S. Krzysztof K.    Maciej H.    Maciej K. \n",
       "          12           15           18            8            0            2 \n",
       "    Pawel K.     Roman S. \n",
       "          10           23 "
      ]
     },
     "metadata": {},
     "output_type": "display_data"
    }
   ],
   "source": [
    "team_a \n",
    "team_b"
   ]
  },
  {
   "cell_type": "markdown",
   "metadata": {},
   "source": [
    "Policz średnią i medianę dla `team_a` na kartce, a następnie sprawdź w R "
   ]
  },
  {
   "cell_type": "code",
   "execution_count": 13,
   "metadata": {},
   "outputs": [
    {
     "data": {
      "text/html": [
       "9"
      ],
      "text/latex": [
       "9"
      ],
      "text/markdown": [
       "9"
      ],
      "text/plain": [
       "[1] 9"
      ]
     },
     "metadata": {},
     "output_type": "display_data"
    },
    {
     "data": {
      "text/html": [
       "5"
      ],
      "text/latex": [
       "5"
      ],
      "text/markdown": [
       "5"
      ],
      "text/plain": [
       "[1] 5"
      ]
     },
     "metadata": {},
     "output_type": "display_data"
    }
   ],
   "source": [
    "# srednia: 9\n",
    "mean(team_a)\n",
    "# mediana: 5\n",
    "median(team_a)"
   ]
  },
  {
   "cell_type": "markdown",
   "metadata": {},
   "source": [
    "Policz średnią i medianę dla `team_b` na kartce, a następnie sprawdź w R "
   ]
  },
  {
   "cell_type": "code",
   "execution_count": 14,
   "metadata": {},
   "outputs": [
    {
     "data": {
      "text/html": [
       "11"
      ],
      "text/latex": [
       "11"
      ],
      "text/markdown": [
       "11"
      ],
      "text/plain": [
       "[1] 11"
      ]
     },
     "metadata": {},
     "output_type": "display_data"
    },
    {
     "data": {
      "text/html": [
       "11"
      ],
      "text/latex": [
       "11"
      ],
      "text/markdown": [
       "11"
      ],
      "text/plain": [
       "[1] 11"
      ]
     },
     "metadata": {},
     "output_type": "display_data"
    }
   ],
   "source": [
    "# srednia: 11\n",
    "mean(team_b)\n",
    "# mediana: 11\n",
    "median(team_b)"
   ]
  },
  {
   "cell_type": "markdown",
   "metadata": {},
   "source": [
    "Jakie wnioski możesz wysnuć na podstawie tych danych?               \n",
    "Drużyna B zdobyła średnio więcej punktów."
   ]
  },
  {
   "cell_type": "markdown",
   "metadata": {},
   "source": [
    "###  Cwiczenie 1b\n",
    "Do wyników obu drużyn dodaj dodatkowego uczestnika z liczbą punktów 1000. "
   ]
  },
  {
   "cell_type": "code",
   "execution_count": 16,
   "metadata": {},
   "outputs": [
    {
     "data": {
      "text/html": [
       "<dl class=dl-horizontal>\n",
       "\t<dt>Andrzej U.</dt>\n",
       "\t\t<dd>8</dd>\n",
       "\t<dt>Artur M.</dt>\n",
       "\t\t<dd>5</dd>\n",
       "\t<dt>Grzegorz W.</dt>\n",
       "\t\t<dd>4</dd>\n",
       "\t<dt>Jan W.</dt>\n",
       "\t\t<dd>38</dd>\n",
       "\t<dt>Marek M.</dt>\n",
       "\t\t<dd>10</dd>\n",
       "\t<dt>Mikołaj S.</dt>\n",
       "\t\t<dd>5</dd>\n",
       "\t<dt>Rafal R.</dt>\n",
       "\t\t<dd>2</dd>\n",
       "\t<dt>Stefan G.</dt>\n",
       "\t\t<dd>0</dd>\n",
       "\t<dt>9</dt>\n",
       "\t\t<dd>1000</dd>\n",
       "</dl>\n"
      ],
      "text/latex": [
       "\\begin{description*}\n",
       "\\item[Andrzej U.] 8\n",
       "\\item[Artur M.] 5\n",
       "\\item[Grzegorz W.] 4\n",
       "\\item[Jan W.] 38\n",
       "\\item[Marek M.] 10\n",
       "\\item[Mikołaj S.] 5\n",
       "\\item[Rafal R.] 2\n",
       "\\item[Stefan G.] 0\n",
       "\\item[9] 1000\n",
       "\\end{description*}\n"
      ],
      "text/markdown": [
       "Andrzej U.\n",
       ":   8Artur M.\n",
       ":   5Grzegorz W.\n",
       ":   4Jan W.\n",
       ":   38Marek M.\n",
       ":   10Mikołaj S.\n",
       ":   5Rafal R.\n",
       ":   2Stefan G.\n",
       ":   09\n",
       ":   1000\n",
       "\n"
      ],
      "text/plain": [
       " Andrzej U.    Artur M. Grzegorz W.      Jan W.    Marek M.  Mikołaj S. \n",
       "          8           5           4          38          10           5 \n",
       "   Rafal R.   Stefan G.             \n",
       "          2           0        1000 "
      ]
     },
     "metadata": {},
     "output_type": "display_data"
    },
    {
     "data": {
      "text/html": [
       "<dl class=dl-horizontal>\n",
       "\t<dt>Andrzej J.</dt>\n",
       "\t\t<dd>12</dd>\n",
       "\t<dt>Jacek J.</dt>\n",
       "\t\t<dd>15</dd>\n",
       "\t<dt>Jerzy S.</dt>\n",
       "\t\t<dd>18</dd>\n",
       "\t<dt>Krzysztof K.</dt>\n",
       "\t\t<dd>8</dd>\n",
       "\t<dt>Maciej H.</dt>\n",
       "\t\t<dd>0</dd>\n",
       "\t<dt>Maciej K.</dt>\n",
       "\t\t<dd>2</dd>\n",
       "\t<dt>Pawel K.</dt>\n",
       "\t\t<dd>10</dd>\n",
       "\t<dt>Roman S.</dt>\n",
       "\t\t<dd>23</dd>\n",
       "\t<dt>9</dt>\n",
       "\t\t<dd>1000</dd>\n",
       "</dl>\n"
      ],
      "text/latex": [
       "\\begin{description*}\n",
       "\\item[Andrzej J.] 12\n",
       "\\item[Jacek J.] 15\n",
       "\\item[Jerzy S.] 18\n",
       "\\item[Krzysztof K.] 8\n",
       "\\item[Maciej H.] 0\n",
       "\\item[Maciej K.] 2\n",
       "\\item[Pawel K.] 10\n",
       "\\item[Roman S.] 23\n",
       "\\item[9] 1000\n",
       "\\end{description*}\n"
      ],
      "text/markdown": [
       "Andrzej J.\n",
       ":   12Jacek J.\n",
       ":   15Jerzy S.\n",
       ":   18Krzysztof K.\n",
       ":   8Maciej H.\n",
       ":   0Maciej K.\n",
       ":   2Pawel K.\n",
       ":   10Roman S.\n",
       ":   239\n",
       ":   1000\n",
       "\n"
      ],
      "text/plain": [
       "  Andrzej J.     Jacek J.     Jerzy S. Krzysztof K.    Maciej H.    Maciej K. \n",
       "          12           15           18            8            0            2 \n",
       "    Pawel K.     Roman S.              \n",
       "          10           23         1000 "
      ]
     },
     "metadata": {},
     "output_type": "display_data"
    }
   ],
   "source": [
    "team_a <-append(team_a, 1000)\n",
    "team_a\n",
    "team_b <-append(team_b, 1000)\n",
    "team_b"
   ]
  },
  {
   "cell_type": "markdown",
   "metadata": {},
   "source": [
    "Jak zmieniła się średnia? Jak zmieniła się mediana? Średnie bardzo zbliżyły się do siebie. Dla zespoły A mediana została identyczna, natomiast dla zespołu B ulegla zmianie na 12"
   ]
  },
  {
   "cell_type": "code",
   "execution_count": 17,
   "metadata": {
    "scrolled": true
   },
   "outputs": [
    {
     "data": {
      "text/html": [
       "119.111111111111"
      ],
      "text/latex": [
       "119.111111111111"
      ],
      "text/markdown": [
       "119.111111111111"
      ],
      "text/plain": [
       "[1] 119.1111"
      ]
     },
     "metadata": {},
     "output_type": "display_data"
    },
    {
     "data": {
      "text/html": [
       "5"
      ],
      "text/latex": [
       "5"
      ],
      "text/markdown": [
       "5"
      ],
      "text/plain": [
       "[1] 5"
      ]
     },
     "metadata": {},
     "output_type": "display_data"
    },
    {
     "data": {
      "text/html": [
       "120.888888888889"
      ],
      "text/latex": [
       "120.888888888889"
      ],
      "text/markdown": [
       "120.888888888889"
      ],
      "text/plain": [
       "[1] 120.8889"
      ]
     },
     "metadata": {},
     "output_type": "display_data"
    },
    {
     "data": {
      "text/html": [
       "12"
      ],
      "text/latex": [
       "12"
      ],
      "text/markdown": [
       "12"
      ],
      "text/plain": [
       "[1] 12"
      ]
     },
     "metadata": {},
     "output_type": "display_data"
    }
   ],
   "source": [
    "# srednia a \n",
    "mean(team_a)\n",
    "# mediana a\n",
    "median(team_a)\n",
    "# srednia b\n",
    "mean(team_b)\n",
    "# mediana b\n",
    "median(team_b)"
   ]
  },
  {
   "cell_type": "markdown",
   "metadata": {},
   "source": [
    "### Ćwiczenie 2 (*) \n",
    "Policzmy średnią i medianę czterech załadowanych do pamięci rozkładów (`dane1`, `dane2`, `dane3`, `dane4`)."
   ]
  },
  {
   "cell_type": "code",
   "execution_count": 21,
   "metadata": {},
   "outputs": [
    {
     "name": "stdout",
     "output_type": "stream",
     "text": [
      "[1] \"Srednia i mediana dla zbioru  1\"\n",
      "[1] \"srednia:  0\"\n",
      "[1] \"mediana:  0\"\n",
      "[1] \"Srednia i mediana dla zbioru  2\"\n",
      "[1] \"srednia:  0\"\n",
      "[1] \"mediana:  0\"\n",
      "[1] \"Srednia i mediana dla zbioru  3\"\n",
      "[1] \"srednia:  0\"\n",
      "[1] \"mediana:  0\"\n",
      "[1] \"Srednia i mediana dla zbioru  4\"\n",
      "[1] \"srednia:  0\"\n",
      "[1] \"mediana:  0\"\n"
     ]
    }
   ],
   "source": [
    "dane1 <- c(0, 0, 0, 0, 0, 0, 0, 0, 0, 0, 0, 0, 0, 0, 0, 0, 0)\n",
    "dane2 <- c(-2, -2, -2, -2, -2, -1, 0, 0, 0, 0, 0, 1, 2, 2, 2, 2, 2)\n",
    "dane3 <- c(-2, -2, 1, 1, 1, 1, 0, 0, 0, 0, 0, -1, -1, -1, -1, 2, 2)\n",
    "dane4 <- c(-4, -3, -2, -1, -1, -1, 0, 0, 0, 0, 0, 1, 1, 1, 2, 3, 4)\n",
    "\n",
    "zbiory_danych <- list(dane1, dane2, dane3, dane4)\n",
    "for ( i in 1:length(zbiory_danych) ){\n",
    "    print(paste(\"Srednia i mediana dla zbioru \", i)) \n",
    "    dane <- zbiory_danych[[i]]\n",
    "    # Wypisz średnią i medianę dla zmiennej dane <------------ MIEJSCE NA TWÓJ KOD\n",
    "    print(paste(\"srednia: \", mean(dane)))\n",
    "    print(paste(\"mediana: \", median(dane)))\n",
    "}"
   ]
  },
  {
   "cell_type": "markdown",
   "metadata": {},
   "source": [
    "Wydaje się że są to zbiory bardzo podobne do siebie, skoro średnia i mediana są dla nich takie same. Zwizualizujmy te zbiory na wykresie!"
   ]
  },
  {
   "cell_type": "code",
   "execution_count": 22,
   "metadata": {},
   "outputs": [
    {
     "data": {
      "image/png": "[encoded data removed]",
      "text/plain": [
       "Plot with title \"Dane 4\""
      ]
     },
     "metadata": {},
     "output_type": "display_data"
    }
   ],
   "source": [
    "    par(mfrow=c(2,2)) \n",
    "    barplot(table(dane1), main=\"Dane 1\")\n",
    "    barplot(table(dane2), main=\"Dane 2\")\n",
    "    barplot(table(dane3), main=\"Dane 3\")\n",
    "    barplot(table(dane4), main=\"Dane 4\")"
   ]
  },
  {
   "cell_type": "markdown",
   "metadata": {},
   "source": [
    "Rzeczywiście, rozkłady te mają taką samą średnią i medianę, jednak pomimo tego znacząco się od siebie różnią. Jedną z cech, które je różnicują jest ich wariancja.\n",
    "\n",
    "Zaimplementuj funkcje `wariancja` i `odchylenie_std`."
   ]
  },
  {
   "cell_type": "code",
   "execution_count": 23,
   "metadata": {},
   "outputs": [
    {
     "name": "stdout",
     "output_type": "stream",
     "text": [
      "[1] \"Statystyki opisowe dla zbioru  1\"\n",
      "   Srednia    Mediana  Wariancja Odchylenie \n",
      "         0          0          0          0 \n",
      "[1] \"Statystyki opisowe dla zbioru  2\"\n",
      "   Srednia    Mediana  Wariancja Odchylenie \n",
      "  0.000000   0.000000   2.470588   1.571810 \n",
      "[1] \"Statystyki opisowe dla zbioru  3\"\n",
      "   Srednia    Mediana  Wariancja Odchylenie \n",
      "  0.000000   0.000000   1.411765   1.188177 \n",
      "[1] \"Statystyki opisowe dla zbioru  4\"\n",
      "   Srednia    Mediana  Wariancja Odchylenie \n",
      "  0.000000   0.000000   3.764706   1.940285 \n"
     ]
    }
   ],
   "source": [
    "wariancja <- function(dane){\n",
    "   sr <- mean(dane)\n",
    "   war <- 0\n",
    "   for(dana in dane){\n",
    "       war <- war + (dana - sr)^2\n",
    "   }\n",
    "   war <- war/length(dane)\n",
    "}\n",
    "\n",
    "odchylenie_std <- function(dane){\n",
    "   war <- wariancja(dane)\n",
    "   odch <- war^(0.5)\n",
    "}\n",
    "\n",
    "#Kodu poniżej nie trzeba modyfikować\n",
    "\n",
    "zbiory_danych <- list(dane1, dane2, dane3, dane4)\n",
    "for ( i in 1:length(zbiory_danych) ){\n",
    "    print(paste(\"Statystyki opisowe dla zbioru \", i)) \n",
    "    dane <- zbiory_danych[[i]]\n",
    "    print(c(Srednia=mean(dane), Mediana=median(dane), Wariancja = wariancja(dane), Odchylenie = odchylenie_std(dane)))\n",
    "}"
   ]
  },
  {
   "cell_type": "markdown",
   "metadata": {},
   "source": [
    "Do przestrzeni załadowano  4 nowe zbiory danych. Uzupełnij kod obliczający ich statystyki opisowe i zinterpretuj wyniki. W R są oczywiście gotowe funkcje na odchylenie standardowe `sd` i wariancje `var`."
   ]
  },
  {
   "cell_type": "code",
   "execution_count": 56,
   "metadata": {},
   "outputs": [
    {
     "name": "stdout",
     "output_type": "stream",
     "text": [
      "[1] \"Statystyki opisowe dla zbioru  1\"\n",
      "   Srednia    Mediana  Wariancja Odchylenie \n",
      " -2.529412  -3.000000   2.389706   1.545867 \n",
      "[1] \"Statystyki opisowe dla zbioru  2\"\n",
      "   Srednia    Mediana  Wariancja Odchylenie \n",
      "  2.529412   3.000000   2.389706   1.545867 \n",
      "[1] \"Statystyki opisowe dla zbioru  3\"\n",
      "   Srednia    Mediana  Wariancja Odchylenie \n",
      "         0          0          4          2 \n",
      "[1] \"Statystyki opisowe dla zbioru  4\"\n",
      "   Srednia    Mediana  Wariancja Odchylenie \n",
      "         0          0          4          2 \n"
     ]
    }
   ],
   "source": [
    "dane1 <-c(-4 ,-4 ,-4 ,-4 ,-4 ,-4 ,-3 ,-3 ,-3 ,-3 ,-2 ,-2 ,-2 ,-1 ,-1 ,0 ,1 )\n",
    "dane2 <- c(4 ,4 ,4 ,4 ,4 ,4 ,3 ,3 ,3 ,3 ,2 ,2 ,2 ,1 ,1 ,0 ,-1 )\n",
    "dane3 <- c(-4 ,-3 ,-2 ,-1 ,-1 ,-1 ,0 ,0 ,0 ,0 ,0 ,1 ,1 ,1 ,2 ,3 ,4 )\n",
    "dane4 <- c(-2 ,-2 ,-1 ,-1 ,-1 ,0 ,0 ,0 ,0 ,0 ,0 ,0 ,1 ,1 ,1 ,2 ,2 -1,1,-1,1,2,-2,2,-1,-1,-2,2,-2,2,-3,3,-3,3,-3,3,-3,3,-3,3,-2,2,-3,3)\n",
    "\n",
    "\n",
    "zbiory_danych <- list(dane1, dane2, dane3, dane4)\n",
    "for ( i in 1:length(zbiory_danych) ){\n",
    "    print(paste(\"Statystyki opisowe dla zbioru \", i)) \n",
    "    dane <- zbiory_danych[[i]]\n",
    "    \n",
    "    # Uzupełnij kod dla wariancji i odchylenia standardowego <--------------------- UZUPEŁNIJ TUTAJ\n",
    "    print(c(Srednia=mean(dane), Mediana=median(dane), Wariancja = var(dane), Odchylenie =sd(dane) ))\n",
    "}"
   ]
  },
  {
   "cell_type": "markdown",
   "metadata": {},
   "source": [
    "Znów spróbujmy zwizualizować zbiory"
   ]
  },
  {
   "cell_type": "code",
   "execution_count": 47,
   "metadata": {},
   "outputs": [
    {
     "data": {
      "image/png": "[encoded data removed]",
      "text/plain": [
       "Plot with title \"Dane 4\""
      ]
     },
     "metadata": {},
     "output_type": "display_data"
    }
   ],
   "source": [
    "    par(mfrow=c(2,2)) \n",
    "    barplot(table(dane1), main=\"Dane 1\", ylim = c(0,7))\n",
    "    barplot(table(dane2), main=\"Dane 2\", ylim = c(0,7))\n",
    "    barplot(table(dane3), main=\"Dane 3\", ylim = c(0,7))\n",
    "    barplot(table(dane4), main=\"Dane 4\", ylim = c(0,7))"
   ]
  },
  {
   "cell_type": "markdown",
   "metadata": {},
   "source": [
    "Zaimplementuj funkcję obliczającą asymetrię i kurtozę. Zinterpretuj uzyskane wyniki."
   ]
  },
  {
   "cell_type": "code",
   "execution_count": 106,
   "metadata": {
    "scrolled": true
   },
   "outputs": [
    {
     "name": "stdout",
     "output_type": "stream",
     "text": [
      "[1] \"Statystyki opisowe dla zbioru  1\"\n",
      "  Skewness   Kurtosis \n",
      " 0.9513030 -0.5737945 \n",
      "[1] \"Statystyki opisowe dla zbioru  2\"\n",
      "  Skewness   Kurtosis \n",
      "-0.9513030 -0.5737945 \n",
      "[1] \"Statystyki opisowe dla zbioru  3\"\n",
      "  Skewness   Kurtosis \n",
      " 0.0000000 -0.3823529 \n",
      "[1] \"Statystyki opisowe dla zbioru  4\"\n",
      " Skewness  Kurtosis \n",
      " 0.000000 -1.290698 \n"
     ]
    }
   ],
   "source": [
    "\n",
    "skewness <- function(dane){\n",
    "    dominant <- as.numeric(names(sort(table(dane), decreasing=TRUE)[1]))\n",
    "    skew <- (mean(dane) - dominant)/sd(dane)\n",
    "}\n",
    "\n",
    "kurtosis <- function(dane){\n",
    "    momentum4 <- 0\n",
    "    mean <- mean(dane)\n",
    "    for (dana in dane){\n",
    "        momentum4 <- momentum4 + (dana - mean)^4 \n",
    "    }\n",
    "    momentum4 <- momentum4/length(dane)\n",
    "    kurtosis <- momentum4/sd(dane)^4 - 3\n",
    "}\n",
    "\n",
    "#Nie zmieniaj kodu poniżej\n",
    "zbiory_danych <- list(dane1, dane2, dane3, dane4)\n",
    "for ( i in 1:length(zbiory_danych) ){\n",
    "    print(paste(\"Statystyki opisowe dla zbioru \", i)) \n",
    "    dane <- zbiory_danych[[i]]\n",
    "    print(c(Skewness = skewness(dane), Kurtosis = kurtosis(dane)))\n",
    "}"
   ]
  },
  {
   "cell_type": "markdown",
   "metadata": {},
   "source": [
    "###  Ćwiczenie 3\n",
    "Przyjmijmy, że zamierzamy prowadzić analizę prowizji płaconej sprzedawcom zatrudnionym w pewnej firmie. W załączeniu zawarte są dane o prowizjach w dwóch grupach po 21 sprzedawców (prowizje za pewien okres wyrażane są w złotych z dokładnością do 1000 zł). Po obliczeniu podstawowych statystyk opisowych porównaj obie grupy sprzedawców i dokonaj interpretacji dokonanych obserwacji. "
   ]
  },
  {
   "cell_type": "code",
   "execution_count": 107,
   "metadata": {},
   "outputs": [],
   "source": [
    "grupa1 <- c(13000 ,14000 ,12000 ,15000 ,16000 ,15000 ,17000 ,15000 ,17000 ,15000 ,15000 ,15000 ,16000 ,15000 ,16000 ,14000 ,16000 ,14000 ,16000 ,17000 ,18000)\n",
    "grupa2 <- c(6000 ,23000 ,13000 ,7000 ,7000 ,20000 ,21000 ,12000 ,11000 ,16000 ,20000 ,21000 ,9000 ,7000 ,15000 ,18000 ,19000 ,22000 ,16000 ,21000 ,17000)"
   ]
  },
  {
   "cell_type": "code",
   "execution_count": 108,
   "metadata": {},
   "outputs": [
    {
     "name": "stdout",
     "output_type": "stream",
     "text": [
      "[1] \"Statystyki opisowe dla zbioru  1\"\n",
      "       Suma     Srednia     Mediana   Wariancja  Odchylenie \n",
      " 321000.000   15285.714   15000.000 2014285.714    1419.255 \n",
      "[1] \"Statystyki opisowe dla zbioru  2\"\n",
      "        Suma      Srednia      Mediana    Wariancja   Odchylenie \n",
      "  321000.000    15285.714    16000.000 31914285.714     5649.273 \n"
     ]
    },
    {
     "data": {
      "image/png": "[encoded data removed]",
      "text/plain": [
       "Plot with title \"Grupa 2\""
      ]
     },
     "metadata": {},
     "output_type": "display_data"
    }
   ],
   "source": [
    "zbiory_danych <- list(grupa1, grupa2)\n",
    "for ( i in 1:length(zbiory_danych) ){\n",
    "    print(paste(\"Statystyki opisowe dla zbioru \", i)) \n",
    "    dane <- zbiory_danych[[i]]\n",
    "    print(c(Suma = sum(dane), Srednia = mean(dane), Mediana = median(dane), Wariancja = var(dane), Odchylenie = sd(dane)))\n",
    "}\n",
    "par(mfrow=c(2,1))\n",
    "barplot(table(grupa1), main=\"Grupa 1\", ylim = c(0,7))\n",
    "barplot(table(grupa2), main=\"Grupa 2\", ylim = c(0,7))\n",
    "# obie grupy miały identyczną sumę prowizji, srednie również były identyczne.\n",
    "# w pierwszej grupie sprzedawcy uzyskali podobną prowizję\n",
    "# W drugiej grupie uzyskana prowizja różniła się między sprzedawcami"
   ]
  },
  {
   "cell_type": "markdown",
   "metadata": {},
   "source": [
    "### Ćwiczenie 4\n",
    "Pociąg z Moskwy do Paryża przebywa poszczególne odcinki drogi z różną prędkością średnia ze względu na różny stan i typ taboru kolejowego. Odcinki, ich długość i średnia prędkość podana jest w tabeli poniżej. Oblicz średnią prędkość pociągu z jaką przebywa cała drogą z Moskwy do Paryża (dane przykładowe, dalekie od rzeczywistych :)."
   ]
  },
  {
   "cell_type": "code",
   "execution_count": 109,
   "metadata": {},
   "outputs": [
    {
     "data": {
      "text/html": [
       "<table>\n",
       "<thead><tr><th scope=col>Odcinek</th><th scope=col>Odległosc</th><th scope=col>Srednia_predkosc</th></tr></thead>\n",
       "<tbody>\n",
       "\t<tr><td>1  </td><td>850</td><td> 80</td></tr>\n",
       "\t<tr><td>2  </td><td>600</td><td> 75</td></tr>\n",
       "\t<tr><td>3  </td><td> 30</td><td> 40</td></tr>\n",
       "\t<tr><td>4  </td><td>220</td><td>120</td></tr>\n",
       "\t<tr><td>5  </td><td>200</td><td>125</td></tr>\n",
       "\t<tr><td>6  </td><td>150</td><td>140</td></tr>\n",
       "\t<tr><td>7  </td><td>220</td><td>160</td></tr>\n",
       "\t<tr><td>8  </td><td>300</td><td>150</td></tr>\n",
       "\t<tr><td>9  </td><td>250</td><td>160</td></tr>\n",
       "</tbody>\n",
       "</table>\n"
      ],
      "text/latex": [
       "\\begin{tabular}{r|lll}\n",
       " Odcinek & Odległosc & Srednia\\_predkosc\\\\\n",
       "\\hline\n",
       "\t 1   & 850 &  80\\\\\n",
       "\t 2   & 600 &  75\\\\\n",
       "\t 3   &  30 &  40\\\\\n",
       "\t 4   & 220 & 120\\\\\n",
       "\t 5   & 200 & 125\\\\\n",
       "\t 6   & 150 & 140\\\\\n",
       "\t 7   & 220 & 160\\\\\n",
       "\t 8   & 300 & 150\\\\\n",
       "\t 9   & 250 & 160\\\\\n",
       "\\end{tabular}\n"
      ],
      "text/markdown": [
       "\n",
       "| Odcinek | Odległosc | Srednia_predkosc |\n",
       "|---|---|---|\n",
       "| 1   | 850 |  80 |\n",
       "| 2   | 600 |  75 |\n",
       "| 3   |  30 |  40 |\n",
       "| 4   | 220 | 120 |\n",
       "| 5   | 200 | 125 |\n",
       "| 6   | 150 | 140 |\n",
       "| 7   | 220 | 160 |\n",
       "| 8   | 300 | 150 |\n",
       "| 9   | 250 | 160 |\n",
       "\n"
      ],
      "text/plain": [
       "  Odcinek Odległosc Srednia_predkosc\n",
       "1 1       850        80             \n",
       "2 2       600        75             \n",
       "3 3        30        40             \n",
       "4 4       220       120             \n",
       "5 5       200       125             \n",
       "6 6       150       140             \n",
       "7 7       220       160             \n",
       "8 8       300       150             \n",
       "9 9       250       160             "
      ]
     },
     "metadata": {},
     "output_type": "display_data"
    }
   ],
   "source": [
    "dane <- data.frame(Odcinek = 1:9, Odległosc = c(850, 600, 30, 220, 200, 150, 220, 300, 250), Srednia_predkosc = c(80, 75, 40, 120, 125, 140, 160, 150, 160))\n",
    "dane"
   ]
  },
  {
   "cell_type": "code",
   "execution_count": 110,
   "metadata": {},
   "outputs": [
    {
     "name": "stdout",
     "output_type": "stream",
     "text": [
      "[1] \"Średnia prędkość pociągu na trasie: 97.86 km/h\"\n"
     ]
    }
   ],
   "source": [
    "time <- function(dist, vel){\n",
    "    time_sum <- 0\n",
    "    for (i in 1:9){\n",
    "        time_sum <- time_sum + dist[i]/vel[i]\n",
    "    } \n",
    "    return (time_sum)\n",
    "}\n",
    "\n",
    "overall_dist <- sum(dane$Odległosc)\n",
    "overall_time <- time(dane$Odległosc, dane$Srednia_predkosc)\n",
    "mean_vel <- overall_dist/overall_time\n",
    "print(paste(\"Średnia prędkość pociągu na trasie:\", round(mean_vel, 2), \"km/h\"))"
   ]
  }
 ],
 "metadata": {
  "kernelspec": {
   "display_name": "R",
   "language": "R",
   "name": "ir"
  },
  "language_info": {
   "codemirror_mode": "r",
   "file_extension": ".r",
   "mimetype": "text/x-r-source",
   "name": "R",
   "pygments_lexer": "r",
   "version": "3.6.1"
  }
 },
 "nbformat": 4,
 "nbformat_minor": 2
}
